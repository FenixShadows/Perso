{
 "cells": [
  {
   "cell_type": "markdown",
   "metadata": {},
   "source": [
    "#### Chargement des données"
   ]
  },
  {
   "cell_type": "code",
   "execution_count": 62,
   "metadata": {},
   "outputs": [],
   "source": [
    "import pandas as pd \n",
    "import matplotlib.pyplot as plt \n",
    "import seaborn as sns \n",
    "import numpy as np"
   ]
  },
  {
   "cell_type": "code",
   "execution_count": 2,
   "metadata": {},
   "outputs": [],
   "source": [
    "sondage = pd.read_csv('sondage.csv',delimiter=',')"
   ]
  },
  {
   "cell_type": "markdown",
   "metadata": {},
   "source": [
    "Prenons un bref apercu des données issues du sondage "
   ]
  },
  {
   "cell_type": "code",
   "execution_count": 3,
   "metadata": {},
   "outputs": [
    {
     "data": {
      "text/html": [
       "<div>\n",
       "<style scoped>\n",
       "    .dataframe tbody tr th:only-of-type {\n",
       "        vertical-align: middle;\n",
       "    }\n",
       "\n",
       "    .dataframe tbody tr th {\n",
       "        vertical-align: top;\n",
       "    }\n",
       "\n",
       "    .dataframe thead th {\n",
       "        text-align: right;\n",
       "    }\n",
       "</style>\n",
       "<table border=\"1\" class=\"dataframe\">\n",
       "  <thead>\n",
       "    <tr style=\"text-align: right;\">\n",
       "      <th></th>\n",
       "      <th>Horodateur</th>\n",
       "      <th>Question 1 : Quelle est votre tranche d'âge ?</th>\n",
       "      <th>Question 2 : Quelle langue utilisez-vous au quotidien ?</th>\n",
       "      <th>Question 3 : Vous arrive-t-il de consulter des sites internet conçus/traduits dans des langues autres que votre langue de prédilection ?</th>\n",
       "      <th>Question 3 : Quel intérêt accordez-vous à votre langue maternelle</th>\n",
       "      <th>Question 4 : Parlez-vous votre langue maternelle ?</th>\n",
       "      <th>Question 5 : Quelle est votre fréquence d'utilisation de votre langue maternelle ?</th>\n",
       "      <th>Question 6 : Seriez-vous ouvert(e)s à de nouvelles méthodes d'apprentissage de votre langue maternelle basées sur vos activités favorites ?</th>\n",
       "      <th>Question 7 : Aimeriez-vous que vos sites internet préférés possèdent également une version traduite en votre langue maternelle ?</th>\n",
       "      <th>Question 8 : Le fait que vos sites internet préférés soient traduits en votre langue maternelle pourrait-il vous pousser à les consulter plus souvent ?</th>\n",
       "      <th>Question 9 : Avez-vous des suggestions pour promouvoir les langues maternelles dans l'univers numérique ?</th>\n",
       "    </tr>\n",
       "  </thead>\n",
       "  <tbody>\n",
       "    <tr>\n",
       "      <td>0</td>\n",
       "      <td>16/12/2019 00:41:23</td>\n",
       "      <td>20-25 ans</td>\n",
       "      <td>Français</td>\n",
       "      <td>Oui</td>\n",
       "      <td>Moyen</td>\n",
       "      <td>Non</td>\n",
       "      <td>Nulle</td>\n",
       "      <td>Oui</td>\n",
       "      <td>Oui</td>\n",
       "      <td>Oui</td>\n",
       "      <td>Non</td>\n",
       "    </tr>\n",
       "    <tr>\n",
       "      <td>1</td>\n",
       "      <td>16/12/2019 00:50:37</td>\n",
       "      <td>25-30 ans</td>\n",
       "      <td>Français</td>\n",
       "      <td>Oui</td>\n",
       "      <td>Moyen</td>\n",
       "      <td>Oui</td>\n",
       "      <td>Quotidienne</td>\n",
       "      <td>Oui</td>\n",
       "      <td>Oui</td>\n",
       "      <td>Oui</td>\n",
       "      <td>NaN</td>\n",
       "    </tr>\n",
       "    <tr>\n",
       "      <td>2</td>\n",
       "      <td>16/12/2019 00:58:22</td>\n",
       "      <td>25-30 ans</td>\n",
       "      <td>Français</td>\n",
       "      <td>Oui</td>\n",
       "      <td>Elevé</td>\n",
       "      <td>Oui</td>\n",
       "      <td>Occasionnelle</td>\n",
       "      <td>Oui</td>\n",
       "      <td>Oui</td>\n",
       "      <td>Oui</td>\n",
       "      <td>NaN</td>\n",
       "    </tr>\n",
       "    <tr>\n",
       "      <td>3</td>\n",
       "      <td>16/12/2019 01:01:56</td>\n",
       "      <td>20-25 ans</td>\n",
       "      <td>Français</td>\n",
       "      <td>Non</td>\n",
       "      <td>Elevé</td>\n",
       "      <td>Oui</td>\n",
       "      <td>Occasionnelle</td>\n",
       "      <td>Oui</td>\n",
       "      <td>Oui</td>\n",
       "      <td>Oui</td>\n",
       "      <td>Que les concepteurs des programmes informatiqu...</td>\n",
       "    </tr>\n",
       "    <tr>\n",
       "      <td>4</td>\n",
       "      <td>16/12/2019 01:02:02</td>\n",
       "      <td>20-25 ans</td>\n",
       "      <td>Français</td>\n",
       "      <td>Oui</td>\n",
       "      <td>Faible</td>\n",
       "      <td>Non</td>\n",
       "      <td>Nulle</td>\n",
       "      <td>Oui</td>\n",
       "      <td>Oui</td>\n",
       "      <td>Non</td>\n",
       "      <td>NaN</td>\n",
       "    </tr>\n",
       "  </tbody>\n",
       "</table>\n",
       "</div>"
      ],
      "text/plain": [
       "            Horodateur Question 1 : Quelle est votre tranche d'âge ?  \\\n",
       "0  16/12/2019 00:41:23                                     20-25 ans   \n",
       "1  16/12/2019 00:50:37                                     25-30 ans   \n",
       "2  16/12/2019 00:58:22                                     25-30 ans   \n",
       "3  16/12/2019 01:01:56                                     20-25 ans   \n",
       "4  16/12/2019 01:02:02                                     20-25 ans   \n",
       "\n",
       "  Question 2 : Quelle langue utilisez-vous au quotidien ?  \\\n",
       "0                                           Français        \n",
       "1                                           Français        \n",
       "2                                           Français        \n",
       "3                                           Français        \n",
       "4                                           Français        \n",
       "\n",
       "  Question 3 : Vous arrive-t-il de consulter des sites internet conçus/traduits dans des langues autres que votre langue de prédilection ?  \\\n",
       "0                                                Oui                                                                                         \n",
       "1                                                Oui                                                                                         \n",
       "2                                                Oui                                                                                         \n",
       "3                                                Non                                                                                         \n",
       "4                                                Oui                                                                                         \n",
       "\n",
       "  Question 3 : Quel intérêt accordez-vous à votre langue maternelle  \\\n",
       "0                                              Moyen                  \n",
       "1                                              Moyen                  \n",
       "2                                              Elevé                  \n",
       "3                                              Elevé                  \n",
       "4                                             Faible                  \n",
       "\n",
       "  Question 4 : Parlez-vous votre langue maternelle ?  \\\n",
       "0                                                Non   \n",
       "1                                                Oui   \n",
       "2                                                Oui   \n",
       "3                                                Oui   \n",
       "4                                                Non   \n",
       "\n",
       "  Question 5 : Quelle est votre fréquence d'utilisation de votre langue maternelle ?  \\\n",
       "0                                              Nulle                                   \n",
       "1                                        Quotidienne                                   \n",
       "2                                      Occasionnelle                                   \n",
       "3                                      Occasionnelle                                   \n",
       "4                                              Nulle                                   \n",
       "\n",
       "  Question 6 : Seriez-vous ouvert(e)s à de nouvelles méthodes d'apprentissage de votre langue maternelle basées sur vos activités favorites ?  \\\n",
       "0                                                Oui                                                                                            \n",
       "1                                                Oui                                                                                            \n",
       "2                                                Oui                                                                                            \n",
       "3                                                Oui                                                                                            \n",
       "4                                                Oui                                                                                            \n",
       "\n",
       "  Question 7 : Aimeriez-vous que vos sites internet préférés possèdent également une version traduite en votre langue maternelle ?   \\\n",
       "0                                                Oui                                                                                  \n",
       "1                                                Oui                                                                                  \n",
       "2                                                Oui                                                                                  \n",
       "3                                                Oui                                                                                  \n",
       "4                                                Oui                                                                                  \n",
       "\n",
       "  Question 8 : Le fait que vos sites internet préférés soient traduits en votre langue maternelle pourrait-il vous pousser à les consulter plus souvent ?  \\\n",
       "0                                                Oui                                                                                                        \n",
       "1                                                Oui                                                                                                        \n",
       "2                                                Oui                                                                                                        \n",
       "3                                                Oui                                                                                                        \n",
       "4                                                Non                                                                                                        \n",
       "\n",
       "  Question 9 : Avez-vous des suggestions pour promouvoir les langues maternelles dans l'univers numérique ?  \n",
       "0                                                Non                                                         \n",
       "1                                                NaN                                                         \n",
       "2                                                NaN                                                         \n",
       "3  Que les concepteurs des programmes informatiqu...                                                         \n",
       "4                                                NaN                                                         "
      ]
     },
     "execution_count": 3,
     "metadata": {},
     "output_type": "execute_result"
    }
   ],
   "source": [
    "sondage.head()"
   ]
  },
  {
   "cell_type": "markdown",
   "metadata": {},
   "source": [
    "#### Nettoyage des données"
   ]
  },
  {
   "cell_type": "markdown",
   "metadata": {},
   "source": [
    "Les noms des colonnes sont trop longues et peuvent être résumées; de plus l'heure à laquelle un individu a répondu n'est pas significatif pour cette analyse nous allons donc la supprimer"
   ]
  },
  {
   "cell_type": "code",
   "execution_count": 4,
   "metadata": {},
   "outputs": [],
   "source": [
    "# Renommer la colonne \n",
    "sondage = sondage.drop(columns = 'Horodateur')"
   ]
  },
  {
   "cell_type": "markdown",
   "metadata": {},
   "source": [
    "- Question 1 : tranche_age\n",
    "- Question 2 : langue\n",
    "- Question 3 : site_etranger\n",
    "- Question 4 : interet \n",
    "- Question 5 : parlez_vous\n",
    "- Question 6 : frequence\n",
    "- Question 7 : apprentissage\n",
    "- Question 8 : site_en_langue \n",
    "- Question 9 : plus_attractif"
   ]
  },
  {
   "cell_type": "code",
   "execution_count": 7,
   "metadata": {},
   "outputs": [],
   "source": [
    "sondage.columns = ['tranche_age','langue','site_etranger','interet','parlez_vous','frequence','apprentissage','site_en_langue','plus_attractif','suggestion']\n",
    "sondage = sondage.drop(columns = 'suggestion')"
   ]
  },
  {
   "cell_type": "code",
   "execution_count": 10,
   "metadata": {},
   "outputs": [],
   "source": [
    "sondage = sondage.dropna()"
   ]
  },
  {
   "cell_type": "code",
   "execution_count": 11,
   "metadata": {},
   "outputs": [
    {
     "data": {
      "text/html": [
       "<div>\n",
       "<style scoped>\n",
       "    .dataframe tbody tr th:only-of-type {\n",
       "        vertical-align: middle;\n",
       "    }\n",
       "\n",
       "    .dataframe tbody tr th {\n",
       "        vertical-align: top;\n",
       "    }\n",
       "\n",
       "    .dataframe thead th {\n",
       "        text-align: right;\n",
       "    }\n",
       "</style>\n",
       "<table border=\"1\" class=\"dataframe\">\n",
       "  <thead>\n",
       "    <tr style=\"text-align: right;\">\n",
       "      <th></th>\n",
       "      <th>tranche_age</th>\n",
       "      <th>langue</th>\n",
       "      <th>site_etranger</th>\n",
       "      <th>interet</th>\n",
       "      <th>parlez_vous</th>\n",
       "      <th>frequence</th>\n",
       "      <th>apprentissage</th>\n",
       "      <th>site_en_langue</th>\n",
       "      <th>plus_attractif</th>\n",
       "    </tr>\n",
       "  </thead>\n",
       "  <tbody>\n",
       "    <tr>\n",
       "      <td>0</td>\n",
       "      <td>20-25 ans</td>\n",
       "      <td>Français</td>\n",
       "      <td>Oui</td>\n",
       "      <td>Moyen</td>\n",
       "      <td>Non</td>\n",
       "      <td>Nulle</td>\n",
       "      <td>Oui</td>\n",
       "      <td>Oui</td>\n",
       "      <td>Oui</td>\n",
       "    </tr>\n",
       "    <tr>\n",
       "      <td>1</td>\n",
       "      <td>25-30 ans</td>\n",
       "      <td>Français</td>\n",
       "      <td>Oui</td>\n",
       "      <td>Moyen</td>\n",
       "      <td>Oui</td>\n",
       "      <td>Quotidienne</td>\n",
       "      <td>Oui</td>\n",
       "      <td>Oui</td>\n",
       "      <td>Oui</td>\n",
       "    </tr>\n",
       "    <tr>\n",
       "      <td>2</td>\n",
       "      <td>25-30 ans</td>\n",
       "      <td>Français</td>\n",
       "      <td>Oui</td>\n",
       "      <td>Elevé</td>\n",
       "      <td>Oui</td>\n",
       "      <td>Occasionnelle</td>\n",
       "      <td>Oui</td>\n",
       "      <td>Oui</td>\n",
       "      <td>Oui</td>\n",
       "    </tr>\n",
       "    <tr>\n",
       "      <td>3</td>\n",
       "      <td>20-25 ans</td>\n",
       "      <td>Français</td>\n",
       "      <td>Non</td>\n",
       "      <td>Elevé</td>\n",
       "      <td>Oui</td>\n",
       "      <td>Occasionnelle</td>\n",
       "      <td>Oui</td>\n",
       "      <td>Oui</td>\n",
       "      <td>Oui</td>\n",
       "    </tr>\n",
       "    <tr>\n",
       "      <td>4</td>\n",
       "      <td>20-25 ans</td>\n",
       "      <td>Français</td>\n",
       "      <td>Oui</td>\n",
       "      <td>Faible</td>\n",
       "      <td>Non</td>\n",
       "      <td>Nulle</td>\n",
       "      <td>Oui</td>\n",
       "      <td>Oui</td>\n",
       "      <td>Non</td>\n",
       "    </tr>\n",
       "  </tbody>\n",
       "</table>\n",
       "</div>"
      ],
      "text/plain": [
       "  tranche_age    langue site_etranger interet parlez_vous      frequence  \\\n",
       "0   20-25 ans  Français           Oui   Moyen         Non          Nulle   \n",
       "1   25-30 ans  Français           Oui   Moyen         Oui    Quotidienne   \n",
       "2   25-30 ans  Français           Oui   Elevé         Oui  Occasionnelle   \n",
       "3   20-25 ans  Français           Non   Elevé         Oui  Occasionnelle   \n",
       "4   20-25 ans  Français           Oui  Faible         Non          Nulle   \n",
       "\n",
       "  apprentissage site_en_langue plus_attractif  \n",
       "0           Oui            Oui            Oui  \n",
       "1           Oui            Oui            Oui  \n",
       "2           Oui            Oui            Oui  \n",
       "3           Oui            Oui            Oui  \n",
       "4           Oui            Oui            Non  "
      ]
     },
     "execution_count": 11,
     "metadata": {},
     "output_type": "execute_result"
    }
   ],
   "source": [
    "sondage.head()"
   ]
  },
  {
   "cell_type": "markdown",
   "metadata": {},
   "source": [
    "#### Statistiques descriptives des données "
   ]
  },
  {
   "cell_type": "code",
   "execution_count": 14,
   "metadata": {},
   "outputs": [
    {
     "data": {
      "text/html": [
       "<div>\n",
       "<style scoped>\n",
       "    .dataframe tbody tr th:only-of-type {\n",
       "        vertical-align: middle;\n",
       "    }\n",
       "\n",
       "    .dataframe tbody tr th {\n",
       "        vertical-align: top;\n",
       "    }\n",
       "\n",
       "    .dataframe thead th {\n",
       "        text-align: right;\n",
       "    }\n",
       "</style>\n",
       "<table border=\"1\" class=\"dataframe\">\n",
       "  <thead>\n",
       "    <tr style=\"text-align: right;\">\n",
       "      <th></th>\n",
       "      <th>tranche_age</th>\n",
       "      <th>langue</th>\n",
       "      <th>site_etranger</th>\n",
       "      <th>interet</th>\n",
       "      <th>parlez_vous</th>\n",
       "      <th>frequence</th>\n",
       "      <th>apprentissage</th>\n",
       "      <th>site_en_langue</th>\n",
       "      <th>plus_attractif</th>\n",
       "    </tr>\n",
       "  </thead>\n",
       "  <tbody>\n",
       "    <tr>\n",
       "      <td>count</td>\n",
       "      <td>73</td>\n",
       "      <td>73</td>\n",
       "      <td>73</td>\n",
       "      <td>73</td>\n",
       "      <td>73</td>\n",
       "      <td>73</td>\n",
       "      <td>73</td>\n",
       "      <td>73</td>\n",
       "      <td>73</td>\n",
       "    </tr>\n",
       "    <tr>\n",
       "      <td>unique</td>\n",
       "      <td>5</td>\n",
       "      <td>3</td>\n",
       "      <td>2</td>\n",
       "      <td>4</td>\n",
       "      <td>2</td>\n",
       "      <td>4</td>\n",
       "      <td>2</td>\n",
       "      <td>2</td>\n",
       "      <td>2</td>\n",
       "    </tr>\n",
       "    <tr>\n",
       "      <td>top</td>\n",
       "      <td>20-25 ans</td>\n",
       "      <td>Français</td>\n",
       "      <td>Oui</td>\n",
       "      <td>Elevé</td>\n",
       "      <td>Oui</td>\n",
       "      <td>Occasionnelle</td>\n",
       "      <td>Oui</td>\n",
       "      <td>Oui</td>\n",
       "      <td>Oui</td>\n",
       "    </tr>\n",
       "    <tr>\n",
       "      <td>freq</td>\n",
       "      <td>40</td>\n",
       "      <td>66</td>\n",
       "      <td>64</td>\n",
       "      <td>37</td>\n",
       "      <td>38</td>\n",
       "      <td>30</td>\n",
       "      <td>70</td>\n",
       "      <td>59</td>\n",
       "      <td>50</td>\n",
       "    </tr>\n",
       "  </tbody>\n",
       "</table>\n",
       "</div>"
      ],
      "text/plain": [
       "       tranche_age    langue site_etranger interet parlez_vous      frequence  \\\n",
       "count           73        73            73      73          73             73   \n",
       "unique           5         3             2       4           2              4   \n",
       "top      20-25 ans  Français           Oui   Elevé         Oui  Occasionnelle   \n",
       "freq            40        66            64      37          38             30   \n",
       "\n",
       "       apprentissage site_en_langue plus_attractif  \n",
       "count             73             73             73  \n",
       "unique             2              2              2  \n",
       "top              Oui            Oui            Oui  \n",
       "freq              70             59             50  "
      ]
     },
     "execution_count": 14,
     "metadata": {},
     "output_type": "execute_result"
    }
   ],
   "source": [
    "sondage.describe()"
   ]
  },
  {
   "cell_type": "markdown",
   "metadata": {},
   "source": [
    "Interpretation : Ce tableau nous permet de savoir que *40%* de notre population sont dans la tranche 20-25 ans. *66%* parlent francais au quotidien, et *64%* ont pour habitude de consulter des sites en d'autres langue. Mais seulement *38%* parlent leur langue maternelle. Il ressort également que *50%* pense que la traduction en langue peuvent augmenter leur intérêt pour un site. "
   ]
  },
  {
   "cell_type": "code",
   "execution_count": 35,
   "metadata": {},
   "outputs": [
    {
     "data": {
      "text/plain": [
       "'79.45 %'"
      ]
     },
     "execution_count": 35,
     "metadata": {},
     "output_type": "execute_result"
    }
   ],
   "source": [
    "str(round( (sondage[sondage.interet == 'Elevé'].shape[0]+sondage[sondage.interet == 'Moyen'].shape[0])*100 / sondage.shape[0],2)) + ' %'"
   ]
  },
  {
   "cell_type": "markdown",
   "metadata": {},
   "source": [
    "Interpretation : Ce résultat nous permet de savoir que près de 80% ont un interêt au moins moyen pour la langue maternelle."
   ]
  },
  {
   "cell_type": "code",
   "execution_count": 41,
   "metadata": {},
   "outputs": [
    {
     "data": {
      "text/plain": [
       "<matplotlib.axes._subplots.AxesSubplot at 0x1691260b388>"
      ]
     },
     "execution_count": 41,
     "metadata": {},
     "output_type": "execute_result"
    },
    {
     "data": {
      "image/png": "[encoded data removed]",
      "text/plain": [
       "<Figure size 432x288 with 1 Axes>"
      ]
     },
     "metadata": {
      "needs_background": "light"
     },
     "output_type": "display_data"
    }
   ],
   "source": [
    "sns.countplot(x='tranche_age',data=sondage,palette='Blues_r')"
   ]
  },
  {
   "cell_type": "code",
   "execution_count": 80,
   "metadata": {},
   "outputs": [
    {
     "data": {
      "text/plain": [
       "<matplotlib.axes._subplots.AxesSubplot at 0x1691e5c4588>"
      ]
     },
     "execution_count": 80,
     "metadata": {},
     "output_type": "execute_result"
    },
    {
     "data": {
      "image/png": "[encoded data removed]",
      "text/plain": [
       "<Figure size 432x432 with 1 Axes>"
      ]
     },
     "metadata": {},
     "output_type": "display_data"
    }
   ],
   "source": [
    "sondage.frequence.value_counts().plot(kind='bar',figsize=(6, 6))"
   ]
  },
  {
   "cell_type": "code",
   "execution_count": 79,
   "metadata": {},
   "outputs": [
    {
     "data": {
      "text/plain": [
       "<seaborn.axisgrid.FacetGrid at 0x1691d954f88>"
      ]
     },
     "execution_count": 79,
     "metadata": {},
     "output_type": "execute_result"
    },
    {
     "data": {
      "image/png": "[encoded data removed]",
      "text/plain": [
       "<Figure size 864x864 with 16 Axes>"
      ]
     },
     "metadata": {},
     "output_type": "display_data"
    }
   ],
   "source": [
    "sns.set(style=\"darkgrid\")\n",
    "g = sns.FacetGrid(sondage, row=\"frequence\", col=\"interet\", margin_titles=True)\n",
    "bins = np.linspace(0, 1, 10)\n",
    "g.map(plt.hist, \"tranche_age\", color=\"steelblue\", bins=bins)"
   ]
  },
  {
   "cell_type": "code",
   "execution_count": 86,
   "metadata": {},
   "outputs": [
    {
     "data": {
      "text/plain": [
       "<seaborn.axisgrid.FacetGrid at 0x16920a83dc8>"
      ]
     },
     "execution_count": 86,
     "metadata": {},
     "output_type": "execute_result"
    },
    {
     "data": {
      "image/png": "[encoded data removed]",
      "text/plain": [
       "<Figure size 864x432 with 8 Axes>"
      ]
     },
     "metadata": {},
     "output_type": "display_data"
    }
   ],
   "source": [
    "sns.set(style=\"darkgrid\")\n",
    "g = sns.FacetGrid(sondage, col=\"frequence\", row=\"plus_attractif\", margin_titles=True)\n",
    "bins = np.linspace(0, 1, 10)\n",
    "g.map(plt.hist, \"interet\", color=\"steelblue\", bins=bins)"
   ]
  },
  {
   "cell_type": "code",
   "execution_count": null,
   "metadata": {},
   "outputs": [],
   "source": []
  }
 ],
 "metadata": {
  "kernelspec": {
   "display_name": "Python 3",
   "language": "python",
   "name": "python3"
  },
  "language_info": {
   "codemirror_mode": {
    "name": "ipython",
    "version": 3
   },
   "file_extension": ".py",
   "mimetype": "text/x-python",
   "name": "python",
   "nbconvert_exporter": "python",
   "pygments_lexer": "ipython3",
   "version": "3.7.4"
  }
 },
 "nbformat": 4,
 "nbformat_minor": 4
}
