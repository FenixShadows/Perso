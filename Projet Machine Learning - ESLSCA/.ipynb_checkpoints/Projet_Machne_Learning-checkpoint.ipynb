{
 "cells": [
  {
   "cell_type": "markdown",
   "metadata": {},
   "source": [
    "# Projet de Machine Learning\n",
    "\n",
    "### 1. Contexte : \n",
    "   Dans le cadre d\"un projet de classe de machine learning, il nous a été demandé d'effectuer une analyse complète d'un jeu de donnée. Etant un grand passionné de football, il est normal que mon dévolu s'est jetté sur les données fournies par le PSG dans le cadre d'un concours lancé précédemment en partenariat avec l'école nationale polytechnique.\n",
    "   \n",
    "<b>Importation des modules</b>"
   ]
  },
  {
   "cell_type": "code",
   "execution_count": 3,
   "metadata": {},
   "outputs": [],
   "source": [
    "import pandas as pd\n",
    "import numpy as np\n",
    "from xml.dom.minidom import parse\n",
    "import xml.dom.minidom as mini\n",
    "import matplotlib.pyplot as plt\n",
    "import glob"
   ]
  },
  {
   "cell_type": "markdown",
   "metadata": {},
   "source": [
    "### 2. Jeu de Donnée :\n",
    "   Les données sont des recoltes des évènements survenus lors des matchs de ligue 1 lors des 19 premières journées du championnat lors de la saison 2016-2017. Tous les faits de jeu tels que les passes, les frappes ...etc ont été enregistrés. Tout d'abord nous allons procéder à l'extraction des données des différents fichiers xml.\n",
    "   Les organisateurs ont mis à la disposition des fichiers Opta F24. Dans un fichier XPG.zip qui est la seule ressource fournie, on retrouve : \n",
    "    - 1 pdf des instructions du rendu\n",
    "    - 1 pdf de description des données offrant une correspondance entre les code des évènements et les désignations \n",
    "    - 1 xml contenant les noms et les IDs des joueurs\n",
    "    - 1 dossier contenant 190 xmls contenant les données sur les évènements\n",
    "    \n",
    "### 3. Extraction des données :\n",
    "#### 3.1 Données des joueurs et des équipes :\n",
    "   Dans le fichier des joueurs nous avons les données des joueurs mais également de celles des équipes."
   ]
  },
  {
   "cell_type": "code",
   "execution_count": null,
   "metadata": {},
   "outputs": [],
   "source": [
    "#Importation des données des joueurs \n",
    "tree = mini.parse(\"joueurs.xml\")\n",
    "#Initialisation des éléments de récupération des données\n",
    "collection = tree.documentElement\n",
    "#Extraction des données des équipes \n",
    "Teams = collection.getElementsByTagName('Team')\n",
    "equipes = pd.DataFrame()\n",
    "i=0\n",
    "for team in Teams :\n",
    "    idt = team.getAttribute('uID')\n",
    "    equipes.at[i,'id'] = idt\n",
    "    nom = team.getElementsByTagName('Name')[0]\n",
    "    equipes.at[i,'nom'] = nom.childNodes[0].data\n",
    "    found = team.getElementsByTagName('Founded')\n",
    "    if found :\n",
    "        founded = team.getElementsByTagName('Founded')[0]\n",
    "        equipes.at[i,'founded'] = founded.childNodes[0].data\n",
    "    sym = team.getElementsByTagName('SYMID')\n",
    "    if sym :\n",
    "        symid = team.getElementsByTagName('SYMID')[0]\n",
    "        equipes.at[i,'symid'] = symid.childNodes[0].data\n",
    "    stad = team.getElementsByTagName('Stadium')\n",
    "    if stad :\n",
    "        stadium = team.getElementsByTagName('Stadium')[0]\n",
    "        stadium_capacity = stadium.getElementsByTagName('Capacity')[0]\n",
    "        equipes.at[i,'stadium_capacity'] = stadium_capacity.childNodes[0].data\n",
    "        stadium_name = stadium.getElementsByTagName('Name')[0]\n",
    "        equipes.at[i,'stadium_name'] = stadium_name.childNodes[0].data\n",
    "    teamoff = team.getElementsByTagName('TeamOfficial')\n",
    "    for b,element in enumerate(teamoff) :\n",
    "        if len(element.childNodes)>0:\n",
    "            cle = element.getAttribute('Type')\n",
    "            first = element.getElementsByTagName('First')[0]\n",
    "            prenom = first.childNodes[0].data\n",
    "            last = element.getElementsByTagName('Last')[0]\n",
    "            nom = last.childNodes[0].data\n",
    "            a = prenom + ' '+nom\n",
    "            equipes.at[i,cle] = a\n",
    "    i += 1 \n",
    "equipes.to_csv('equipe.csv')"
   ]
  },
  {
   "cell_type": "code",
   "execution_count": null,
   "metadata": {},
   "outputs": [],
   "source": [
    "#Extraction des données des joueurs\n",
    "Players = collection.getElementsByTagName('Player')\n",
    "data = pd.DataFrame()\n",
    "i=0\n",
    "for player in Players :\n",
    "    parent = player.parentNode\n",
    "    parent_team = parent.getAttribute('short_club_name')\n",
    "    data.at[i,'club'] = parent_team\n",
    "    index = player.getAttribute('uID')\n",
    "    data.at[i,'id'] = index\n",
    "    name = player.getElementsByTagName('Name')[0]\n",
    "    data.at[i,'name'] = name.childNodes[0].data\n",
    "    position = player.getElementsByTagName('Position')[0]\n",
    "    data.at[i,'position'] = position.childNodes[0].data\n",
    "    stat = player.getElementsByTagName('Stat')\n",
    "    statu = player.getElementsByTagName('Stat')[0]\n",
    "    for b,element in enumerate(stat) :\n",
    "        if len(element.childNodes)>0:\n",
    "            cle = element.getAttribute('Type')\n",
    "            a = element.childNodes[0].data\n",
    "            data.at[i,cle] = a\n",
    "    i += 1\n",
    "data.to_csv('Players.csv',index=False)"
   ]
  },
  {
   "cell_type": "markdown",
   "metadata": {},
   "source": [
    "#### 3.2 Données des Matchs:\n",
    "   Il est question maintenant d'extraire les données des évènements des matchs. Comme mentionné plus haut ces données sont contenues dans 190 xml qui contiennent les détails de tous les matchs de la première phase du championnat. \n",
    "   \n",
    "   Nous allons d'abord dans un premier temps extraire les détails de chaque match, avant de ressortir un autre jeu de donnée sur les données extraites de chaque match."
   ]
  },
  {
   "cell_type": "code",
   "execution_count": null,
   "metadata": {},
   "outputs": [],
   "source": [
    "matchs = pd.DataFrame()\n",
    "i=0\n",
    "for file in files :\n",
    "    tree = mini.parse(file)\n",
    "    data_game = tree.documentElement\n",
    "    #Extraction des données des équipes \n",
    "    games = data_game.getElementsByTagName('Game') \n",
    "    for game in games :\n",
    "        game_id = game.getAttribute('id')\n",
    "        matchs.at[i,'id'] = game_id\n",
    "        home_team = game.getAttribute('home_team_name')\n",
    "        matchs.at[i,'home_team'] = home_team\n",
    "        away_team = game.getAttribute('away_team_name')\n",
    "        matchs.at[i,'away_team'] = away_team\n",
    "        matchday = game.getAttribute('matchday')\n",
    "        matchs.at[i,'matchday'] = matchday\n",
    "        period_1_start = game.getAttribute('period_1_start')\n",
    "        matchs.at[i,'period_1_start'] = period_1_start\n",
    "        period_2_start = game.getAttribute('period_2_start')\n",
    "        matchs.at[i,'period_2_start'] = period_2_start\n",
    "        period_3_start = game.getAttribute('period_3_start')\n",
    "        matchs.at[i,'period_3_start'] = period_3_start\n",
    "        game_date = game.getAttribute('game_date')\n",
    "        matchs.at[i,'game_date'] = game_date\n",
    "        i += 1\n",
    "matchs.to_csv('matchs.csv',index=False)"
   ]
  },
  {
   "cell_type": "markdown",
   "metadata": {},
   "source": [
    "### 3.3 Evènements :\n",
    "Ensuite nous allons pour chaque match de chaque journée nous allons ressortir les détails des évènements survenus dans chaque match. Etant donnée que du nombre important de données, nous allons opter pour une excécution distribuée.\n",
    "\n",
    "Tout d'abord on définit le dataframe où les données seront insérées. Ensuite on définit la fonction qui va servir à extraire les données."
   ]
  },
  {
   "cell_type": "code",
   "execution_count": null,
   "metadata": {},
   "outputs": [],
   "source": [
    "def extract(files,out):\n",
    "    #On récupère les chemins de tous les fichiers des évènements\n",
    "    events = pd.DataFrame()\n",
    "    i=0\n",
    "    for file in files :\n",
    "        tree = mini.parse(file)\n",
    "        data_game = tree.documentElement\n",
    "        #Extraction des données des équipes \n",
    "        elements = data_game.getElementsByTagName('Event') \n",
    "        for event in elements :\n",
    "            parent = event.parentNode\n",
    "            parent_id = parent.getAttribute('id')\n",
    "            events.at[i,'game_id'] = parent_id\n",
    "            id_event = event.getAttribute('id')\n",
    "            events.at[i,'id'] = id_event\n",
    "            event_id = event.getAttribute('event_id')\n",
    "            events.at[i,'event_id'] = event_id\n",
    "            type_id = event.getAttribute('type_id')\n",
    "            events.at[i,'type_id'] = type_id\n",
    "            period_id = event.getAttribute('period_id')\n",
    "            events.at[i,'period_id'] = period_id\n",
    "            version_event = event.getAttribute('version')\n",
    "            events.at[i,'version'] = version_event\n",
    "            min_event = event.getAttribute('min')\n",
    "            events.at[i,'min'] = min_event\n",
    "            sec = event.getAttribute('sec')\n",
    "            events.at[i,'sec'] = sec\n",
    "            team_id = event.getAttribute('team_id')\n",
    "            events.at[i,'team_id'] = team_id\n",
    "            player_id = event.getAttribute('player_id')\n",
    "            events.at[i,'player_id'] = player_id\n",
    "            outcome = event.getAttribute('outcome')\n",
    "            events.at[i,'outcome'] = outcome\n",
    "            assist = event.getAttribute('assist')\n",
    "            events.at[i,'assist'] = assist\n",
    "            keypass = event.getAttribute('keypass')\n",
    "            events.at[i,'keypass'] = keypass\n",
    "            x = event.getAttribute('x')\n",
    "            events.at[i,'x'] = x\n",
    "            y = event.getAttribute('y')\n",
    "            events.at[i,'y'] = y\n",
    "            event_id = event.getAttribute('event_id')\n",
    "            events.at[i,'event_id'] = event_id\n",
    "            timestamp = event.getAttribute('timestamp')\n",
    "            events.at[i,'timestamp'] = timestamp\n",
    "            last_modified = event.getAttribute('last_modified')\n",
    "            events.at[i,'last_modified'] = last_modified\n",
    "            i += 1\n",
    "        #events = events.append(data, ignore_index=True)\n",
    "    return events.to_csv(out,index=False)"
   ]
  },
  {
   "cell_type": "code",
   "execution_count": null,
   "metadata": {},
   "outputs": [],
   "source": [
    "#On récupère les chemins de tous les fichiers des évènements\n",
    "files = glob.glob(\"Base/1/f24-24-2016-*-eventdetails.xml\")\n",
    "out = 'Base/events_1.csv'\n",
    "extract(files,out)"
   ]
  },
  {
   "cell_type": "code",
   "execution_count": null,
   "metadata": {},
   "outputs": [],
   "source": [
    "fichiers = glob.glob(\"Base/events_*.csv\")\n",
    "events = pd.DataFrame()\n",
    "for file in fichiers :\n",
    "    data = pd.read_csv(file)\n",
    "    events = events.append(data, ignore_index = True)"
   ]
  },
  {
   "cell_type": "code",
   "execution_count": null,
   "metadata": {},
   "outputs": [],
   "source": [
    "events.to_csv('events.csv',index=False)"
   ]
  },
  {
   "cell_type": "markdown",
   "metadata": {},
   "source": [
    "### 4. Nettoyage des données \n",
    "Dans ce document il est question de faire nettoyer les données inutiles pour le traitement ultérieur. Il serait inéressant de ressortir les statistiques desceriptives des données que l'on a ensuite nous pourrons retirer les données inutiles\n",
    "\n",
    "#### 4.1. Les équipes\n",
    "Dans un premier temps nous allons charger les données stockées dans le dossier /clean crée pour contenir tous les csv des données extraites. Il s'agit de :"
   ]
  },
  {
   "cell_type": "code",
   "execution_count": 2,
   "metadata": {},
   "outputs": [
    {
     "ename": "ValueError",
     "evalue": "unconverted data remains: -01-01",
     "output_type": "error",
     "traceback": [
      "\u001b[1;31m---------------------------------------------------------------------------\u001b[0m",
      "\u001b[1;31mTypeError\u001b[0m                                 Traceback (most recent call last)",
      "\u001b[1;32mC:\\ProgramData\\Anaconda3\\lib\\site-packages\\pandas\\core\\tools\\datetimes.py\u001b[0m in \u001b[0;36m_convert_listlike\u001b[1;34m(arg, box, format, name, tz)\u001b[0m\n\u001b[0;32m    376\u001b[0m             \u001b[1;32mtry\u001b[0m\u001b[1;33m:\u001b[0m\u001b[1;33m\u001b[0m\u001b[0m\n\u001b[1;32m--> 377\u001b[1;33m                 \u001b[0mvalues\u001b[0m\u001b[1;33m,\u001b[0m \u001b[0mtz\u001b[0m \u001b[1;33m=\u001b[0m \u001b[0mconversion\u001b[0m\u001b[1;33m.\u001b[0m\u001b[0mdatetime_to_datetime64\u001b[0m\u001b[1;33m(\u001b[0m\u001b[0marg\u001b[0m\u001b[1;33m)\u001b[0m\u001b[1;33m\u001b[0m\u001b[0m\n\u001b[0m\u001b[0;32m    378\u001b[0m                 \u001b[1;32mreturn\u001b[0m \u001b[0mDatetimeIndex\u001b[0m\u001b[1;33m.\u001b[0m\u001b[0m_simple_new\u001b[0m\u001b[1;33m(\u001b[0m\u001b[0mvalues\u001b[0m\u001b[1;33m,\u001b[0m \u001b[0mname\u001b[0m\u001b[1;33m=\u001b[0m\u001b[0mname\u001b[0m\u001b[1;33m,\u001b[0m \u001b[0mtz\u001b[0m\u001b[1;33m=\u001b[0m\u001b[0mtz\u001b[0m\u001b[1;33m)\u001b[0m\u001b[1;33m\u001b[0m\u001b[0m\n",
      "\u001b[1;32mpandas\\_libs\\tslibs\\conversion.pyx\u001b[0m in \u001b[0;36mpandas._libs.tslibs.conversion.datetime_to_datetime64\u001b[1;34m()\u001b[0m\n",
      "\u001b[1;31mTypeError\u001b[0m: Unrecognized value type: <class 'str'>",
      "\nDuring handling of the above exception, another exception occurred:\n",
      "\u001b[1;31mValueError\u001b[0m                                Traceback (most recent call last)",
      "\u001b[1;32m<ipython-input-2-72fde1e7b8e5>\u001b[0m in \u001b[0;36m<module>\u001b[1;34m()\u001b[0m\n\u001b[0;32m      7\u001b[0m \u001b[0mequipe\u001b[0m\u001b[1;33m[\u001b[0m\u001b[1;34m'stadium_capacity'\u001b[0m\u001b[1;33m]\u001b[0m \u001b[1;33m=\u001b[0m \u001b[0mequipe\u001b[0m\u001b[1;33m[\u001b[0m\u001b[1;34m'stadium_capacity'\u001b[0m\u001b[1;33m]\u001b[0m\u001b[1;33m.\u001b[0m\u001b[0mastype\u001b[0m\u001b[1;33m(\u001b[0m\u001b[1;34m'int64'\u001b[0m\u001b[1;33m)\u001b[0m\u001b[1;33m\u001b[0m\u001b[0m\n\u001b[0;32m      8\u001b[0m \u001b[0mequipe\u001b[0m\u001b[1;33m[\u001b[0m\u001b[1;34m'founded'\u001b[0m\u001b[1;33m]\u001b[0m \u001b[1;33m=\u001b[0m \u001b[0mequipe\u001b[0m\u001b[1;33m[\u001b[0m\u001b[1;34m'founded'\u001b[0m\u001b[1;33m]\u001b[0m\u001b[1;33m.\u001b[0m\u001b[0mastype\u001b[0m\u001b[1;33m(\u001b[0m\u001b[1;34m'str'\u001b[0m\u001b[1;33m)\u001b[0m\u001b[1;33m\u001b[0m\u001b[0m\n\u001b[1;32m----> 9\u001b[1;33m \u001b[0mequipe\u001b[0m\u001b[1;33m[\u001b[0m\u001b[1;34m'founded'\u001b[0m\u001b[1;33m]\u001b[0m \u001b[1;33m=\u001b[0m \u001b[0mpd\u001b[0m\u001b[1;33m.\u001b[0m\u001b[0mto_datetime\u001b[0m\u001b[1;33m(\u001b[0m\u001b[0mequipe\u001b[0m\u001b[1;33m[\u001b[0m\u001b[1;34m'founded'\u001b[0m\u001b[1;33m]\u001b[0m\u001b[1;33m,\u001b[0m\u001b[0mformat\u001b[0m\u001b[1;33m=\u001b[0m\u001b[1;34m'%Y'\u001b[0m\u001b[1;33m)\u001b[0m\u001b[1;33m\u001b[0m\u001b[0m\n\u001b[0m\u001b[0;32m     10\u001b[0m \u001b[0mequipe\u001b[0m \u001b[1;33m=\u001b[0m \u001b[0mequipe\u001b[0m\u001b[1;33m[\u001b[0m\u001b[1;33m[\u001b[0m\u001b[1;34m'id'\u001b[0m\u001b[1;33m,\u001b[0m\u001b[1;34m'nom'\u001b[0m\u001b[1;33m,\u001b[0m\u001b[1;34m'founded'\u001b[0m\u001b[1;33m,\u001b[0m\u001b[1;34m'symid'\u001b[0m\u001b[1;33m,\u001b[0m\u001b[1;34m'stadium_capacity'\u001b[0m\u001b[1;33m,\u001b[0m\u001b[1;34m'President'\u001b[0m\u001b[1;33m,\u001b[0m\u001b[1;34m'Manager'\u001b[0m\u001b[1;33m]\u001b[0m\u001b[1;33m]\u001b[0m\u001b[1;33m\u001b[0m\u001b[0m\n",
      "\u001b[1;32mC:\\ProgramData\\Anaconda3\\lib\\site-packages\\pandas\\core\\tools\\datetimes.py\u001b[0m in \u001b[0;36mto_datetime\u001b[1;34m(arg, errors, dayfirst, yearfirst, utc, box, format, exact, unit, infer_datetime_format, origin, cache)\u001b[0m\n\u001b[0;32m    449\u001b[0m         \u001b[1;32melse\u001b[0m\u001b[1;33m:\u001b[0m\u001b[1;33m\u001b[0m\u001b[0m\n\u001b[0;32m    450\u001b[0m             \u001b[1;32mfrom\u001b[0m \u001b[0mpandas\u001b[0m \u001b[1;32mimport\u001b[0m \u001b[0mSeries\u001b[0m\u001b[1;33m\u001b[0m\u001b[0m\n\u001b[1;32m--> 451\u001b[1;33m             \u001b[0mvalues\u001b[0m \u001b[1;33m=\u001b[0m \u001b[0m_convert_listlike\u001b[0m\u001b[1;33m(\u001b[0m\u001b[0marg\u001b[0m\u001b[1;33m.\u001b[0m\u001b[0m_values\u001b[0m\u001b[1;33m,\u001b[0m \u001b[1;32mTrue\u001b[0m\u001b[1;33m,\u001b[0m \u001b[0mformat\u001b[0m\u001b[1;33m)\u001b[0m\u001b[1;33m\u001b[0m\u001b[0m\n\u001b[0m\u001b[0;32m    452\u001b[0m             \u001b[0mresult\u001b[0m \u001b[1;33m=\u001b[0m \u001b[0mSeries\u001b[0m\u001b[1;33m(\u001b[0m\u001b[0mvalues\u001b[0m\u001b[1;33m,\u001b[0m \u001b[0mindex\u001b[0m\u001b[1;33m=\u001b[0m\u001b[0marg\u001b[0m\u001b[1;33m.\u001b[0m\u001b[0mindex\u001b[0m\u001b[1;33m,\u001b[0m \u001b[0mname\u001b[0m\u001b[1;33m=\u001b[0m\u001b[0marg\u001b[0m\u001b[1;33m.\u001b[0m\u001b[0mname\u001b[0m\u001b[1;33m)\u001b[0m\u001b[1;33m\u001b[0m\u001b[0m\n\u001b[0;32m    453\u001b[0m     \u001b[1;32melif\u001b[0m \u001b[0misinstance\u001b[0m\u001b[1;33m(\u001b[0m\u001b[0marg\u001b[0m\u001b[1;33m,\u001b[0m \u001b[1;33m(\u001b[0m\u001b[0mABCDataFrame\u001b[0m\u001b[1;33m,\u001b[0m \u001b[0mMutableMapping\u001b[0m\u001b[1;33m)\u001b[0m\u001b[1;33m)\u001b[0m\u001b[1;33m:\u001b[0m\u001b[1;33m\u001b[0m\u001b[0m\n",
      "\u001b[1;32mC:\\ProgramData\\Anaconda3\\lib\\site-packages\\pandas\\core\\tools\\datetimes.py\u001b[0m in \u001b[0;36m_convert_listlike\u001b[1;34m(arg, box, format, name, tz)\u001b[0m\n\u001b[0;32m    378\u001b[0m                 \u001b[1;32mreturn\u001b[0m \u001b[0mDatetimeIndex\u001b[0m\u001b[1;33m.\u001b[0m\u001b[0m_simple_new\u001b[0m\u001b[1;33m(\u001b[0m\u001b[0mvalues\u001b[0m\u001b[1;33m,\u001b[0m \u001b[0mname\u001b[0m\u001b[1;33m=\u001b[0m\u001b[0mname\u001b[0m\u001b[1;33m,\u001b[0m \u001b[0mtz\u001b[0m\u001b[1;33m=\u001b[0m\u001b[0mtz\u001b[0m\u001b[1;33m)\u001b[0m\u001b[1;33m\u001b[0m\u001b[0m\n\u001b[0;32m    379\u001b[0m             \u001b[1;32mexcept\u001b[0m \u001b[1;33m(\u001b[0m\u001b[0mValueError\u001b[0m\u001b[1;33m,\u001b[0m \u001b[0mTypeError\u001b[0m\u001b[1;33m)\u001b[0m\u001b[1;33m:\u001b[0m\u001b[1;33m\u001b[0m\u001b[0m\n\u001b[1;32m--> 380\u001b[1;33m                 \u001b[1;32mraise\u001b[0m \u001b[0me\u001b[0m\u001b[1;33m\u001b[0m\u001b[0m\n\u001b[0m\u001b[0;32m    381\u001b[0m \u001b[1;33m\u001b[0m\u001b[0m\n\u001b[0;32m    382\u001b[0m     \u001b[1;32mif\u001b[0m \u001b[0marg\u001b[0m \u001b[1;32mis\u001b[0m \u001b[1;32mNone\u001b[0m\u001b[1;33m:\u001b[0m\u001b[1;33m\u001b[0m\u001b[0m\n",
      "\u001b[1;32mC:\\ProgramData\\Anaconda3\\lib\\site-packages\\pandas\\core\\tools\\datetimes.py\u001b[0m in \u001b[0;36m_convert_listlike\u001b[1;34m(arg, box, format, name, tz)\u001b[0m\n\u001b[0;32m    345\u001b[0m                     \u001b[1;32mtry\u001b[0m\u001b[1;33m:\u001b[0m\u001b[1;33m\u001b[0m\u001b[0m\n\u001b[0;32m    346\u001b[0m                         result = array_strptime(arg, format, exact=exact,\n\u001b[1;32m--> 347\u001b[1;33m                                                 errors=errors)\n\u001b[0m\u001b[0;32m    348\u001b[0m                     \u001b[1;32mexcept\u001b[0m \u001b[0mtslib\u001b[0m\u001b[1;33m.\u001b[0m\u001b[0mOutOfBoundsDatetime\u001b[0m\u001b[1;33m:\u001b[0m\u001b[1;33m\u001b[0m\u001b[0m\n\u001b[0;32m    349\u001b[0m                         \u001b[1;32mif\u001b[0m \u001b[0merrors\u001b[0m \u001b[1;33m==\u001b[0m \u001b[1;34m'raise'\u001b[0m\u001b[1;33m:\u001b[0m\u001b[1;33m\u001b[0m\u001b[0m\n",
      "\u001b[1;32mpandas\\_libs\\tslibs\\strptime.pyx\u001b[0m in \u001b[0;36mpandas._libs.tslibs.strptime.array_strptime\u001b[1;34m()\u001b[0m\n",
      "\u001b[1;31mValueError\u001b[0m: unconverted data remains: -01-01"
     ]
    }
   ],
   "source": [
    "equipe = pd.read_csv('equipe.csv')\n",
    "equipe = equipe[['id','nom','founded','symid','stadium_capacity','President','Manager']]\n",
    "equipe = equipe.drop(equipe[equipe.symid.isna()].index)\n",
    "# Conversion de la capacité des stades en nombre\n",
    "for i in equipe.stadium_capacity :\n",
    "    i = int(i)\n",
    "equipe['stadium_capacity'] = equipe['stadium_capacity'].astype('int64')\n",
    "equipe['founded'] = equipe['founded'].astype('str')\n",
    "equipe['founded'] = pd.to_datetime(equipe['founded'],format='%Y')\n",
    "equipe = equipe[['id','nom','founded','symid','stadium_capacity','President','Manager']]"
   ]
  },
  {
   "cell_type": "markdown",
   "metadata": {},
   "source": [
    "#### 4.2 Les joueurs :"
   ]
  },
  {
   "cell_type": "code",
   "execution_count": 3,
   "metadata": {},
   "outputs": [],
   "source": [
    "player = pd.read_csv('clean/Players.csv')"
   ]
  },
  {
   "cell_type": "code",
   "execution_count": 5,
   "metadata": {},
   "outputs": [],
   "source": [
    "player = player[['club','id','first_name','last_name','country','real_position','jersey_num','birth_date','weight','height']]\n",
    "test = player.duplicated(['id']) == True\n",
    "for i in list(player.id[test].index) :\n",
    "    player = player.drop(i)\n",
    "player = player.reset_index()"
   ]
  },
  {
   "cell_type": "code",
   "execution_count": 6,
   "metadata": {},
   "outputs": [
    {
     "data": {
      "text/html": [
       "<div>\n",
       "<style scoped>\n",
       "    .dataframe tbody tr th:only-of-type {\n",
       "        vertical-align: middle;\n",
       "    }\n",
       "\n",
       "    .dataframe tbody tr th {\n",
       "        vertical-align: top;\n",
       "    }\n",
       "\n",
       "    .dataframe thead th {\n",
       "        text-align: right;\n",
       "    }\n",
       "</style>\n",
       "<table border=\"1\" class=\"dataframe\">\n",
       "  <thead>\n",
       "    <tr style=\"text-align: right;\">\n",
       "      <th></th>\n",
       "      <th>index</th>\n",
       "      <th>club</th>\n",
       "      <th>id</th>\n",
       "      <th>first_name</th>\n",
       "      <th>last_name</th>\n",
       "      <th>country</th>\n",
       "      <th>real_position</th>\n",
       "      <th>jersey_num</th>\n",
       "      <th>birth_date</th>\n",
       "      <th>weight</th>\n",
       "      <th>height</th>\n",
       "    </tr>\n",
       "  </thead>\n",
       "  <tbody>\n",
       "    <tr>\n",
       "      <th>0</th>\n",
       "      <td>0</td>\n",
       "      <td>Angers</td>\n",
       "      <td>p40511</td>\n",
       "      <td>Denis</td>\n",
       "      <td>Petric</td>\n",
       "      <td>Slovenia</td>\n",
       "      <td>Goalkeeper</td>\n",
       "      <td>1</td>\n",
       "      <td>1988-05-24</td>\n",
       "      <td>83</td>\n",
       "      <td>187</td>\n",
       "    </tr>\n",
       "    <tr>\n",
       "      <th>1</th>\n",
       "      <td>1</td>\n",
       "      <td>Angers</td>\n",
       "      <td>p119744</td>\n",
       "      <td>Mathieu</td>\n",
       "      <td>Michel</td>\n",
       "      <td>France</td>\n",
       "      <td>Goalkeeper</td>\n",
       "      <td>1</td>\n",
       "      <td>1991-09-04</td>\n",
       "      <td>84</td>\n",
       "      <td>189</td>\n",
       "    </tr>\n",
       "    <tr>\n",
       "      <th>2</th>\n",
       "      <td>2</td>\n",
       "      <td>Angers</td>\n",
       "      <td>p85577</td>\n",
       "      <td>Alexandre</td>\n",
       "      <td>Letellier</td>\n",
       "      <td>France</td>\n",
       "      <td>Goalkeeper</td>\n",
       "      <td>30</td>\n",
       "      <td>1990-12-11</td>\n",
       "      <td>93</td>\n",
       "      <td>193</td>\n",
       "    </tr>\n",
       "    <tr>\n",
       "      <th>3</th>\n",
       "      <td>3</td>\n",
       "      <td>Angers</td>\n",
       "      <td>p174272</td>\n",
       "      <td>Anthony</td>\n",
       "      <td>Mandrea</td>\n",
       "      <td>France</td>\n",
       "      <td>Goalkeeper</td>\n",
       "      <td>40</td>\n",
       "      <td>1996-12-25</td>\n",
       "      <td>78</td>\n",
       "      <td>186</td>\n",
       "    </tr>\n",
       "    <tr>\n",
       "      <th>4</th>\n",
       "      <td>4</td>\n",
       "      <td>Angers</td>\n",
       "      <td>p218123</td>\n",
       "      <td>Maxime</td>\n",
       "      <td>Sivis</td>\n",
       "      <td>Congo DR</td>\n",
       "      <td>Unknown</td>\n",
       "      <td>Unknown</td>\n",
       "      <td>1998-01-04</td>\n",
       "      <td>Unknown</td>\n",
       "      <td>Unknown</td>\n",
       "    </tr>\n",
       "  </tbody>\n",
       "</table>\n",
       "</div>"
      ],
      "text/plain": [
       "   index    club       id first_name  last_name   country real_position  \\\n",
       "0      0  Angers   p40511      Denis     Petric  Slovenia    Goalkeeper   \n",
       "1      1  Angers  p119744    Mathieu     Michel    France    Goalkeeper   \n",
       "2      2  Angers   p85577  Alexandre  Letellier    France    Goalkeeper   \n",
       "3      3  Angers  p174272    Anthony    Mandrea    France    Goalkeeper   \n",
       "4      4  Angers  p218123     Maxime      Sivis  Congo DR       Unknown   \n",
       "\n",
       "  jersey_num  birth_date   weight   height  \n",
       "0          1  1988-05-24       83      187  \n",
       "1          1  1991-09-04       84      189  \n",
       "2         30  1990-12-11       93      193  \n",
       "3         40  1996-12-25       78      186  \n",
       "4    Unknown  1998-01-04  Unknown  Unknown  "
      ]
     },
     "execution_count": 6,
     "metadata": {},
     "output_type": "execute_result"
    }
   ],
   "source": [
    "player.head()"
   ]
  },
  {
   "cell_type": "code",
   "execution_count": null,
   "metadata": {},
   "outputs": [],
   "source": [
    "player.to_csv('player.csv')"
   ]
  },
  {
   "cell_type": "markdown",
   "metadata": {},
   "source": [
    "#### 4.3 Les évènements :"
   ]
  },
  {
   "cell_type": "code",
   "execution_count": 8,
   "metadata": {},
   "outputs": [],
   "source": [
    "events = pd.read_csv('clean/events.csv')"
   ]
  },
  {
   "cell_type": "code",
   "execution_count": null,
   "metadata": {},
   "outputs": [],
   "source": [
    "events.head()"
   ]
  },
  {
   "cell_type": "code",
   "execution_count": null,
   "metadata": {},
   "outputs": [],
   "source": [
    "events = events.drop(columns=['version','outcome'])\n",
    "events.to_csv('events.csv')"
   ]
  },
  {
   "cell_type": "markdown",
   "metadata": {},
   "source": [
    "#### 4.4 Les Appendix :"
   ]
  },
  {
   "cell_type": "code",
   "execution_count": 12,
   "metadata": {},
   "outputs": [],
   "source": [
    "appendix_1 = pd.read_csv('clean/appendix_1.csv',delimiter=';')\n",
    "appendix_1 = appendix_1[['Event ID','Name']]\n",
    "appendix_1 = appendix_1.dropna(how='all')\n",
    "appendix_1['Event ID'] = appendix_1['Event ID'].astype(np.int64)"
   ]
  },
  {
   "cell_type": "code",
   "execution_count": 13,
   "metadata": {},
   "outputs": [],
   "source": [
    "appendix_2 = pd.read_csv('clean/appendix_8.csv',delimiter=';')\n",
    "appendix_2 = appendix_2.dropna()\n",
    "appendix_2['Event ID'] = appendix_2['Event ID'].astype(np.int64)"
   ]
  },
  {
   "cell_type": "code",
   "execution_count": 14,
   "metadata": {},
   "outputs": [],
   "source": [
    "appendix_8 = pd.read_csv('clean/appendix_8.csv',delimiter = ';')\n",
    "appendix_8 = appendix_8.dropna()\n",
    "appendix_8['Event ID'] = appendix_8['Event ID'].astype(np.int64)\n",
    "appendix_8.to_csv('qualifier_type.csv')"
   ]
  },
  {
   "cell_type": "code",
   "execution_count": 15,
   "metadata": {},
   "outputs": [],
   "source": [
    "event_type = pd.merge(appendix_1, appendix_2, on=['Event ID','Name'], how='outer')\n",
    "event_type = pd.merge(event_type, appendix_8, on=['Event ID','Name'], how='outer')"
   ]
  },
  {
   "cell_type": "code",
   "execution_count": 16,
   "metadata": {},
   "outputs": [
    {
     "data": {
      "text/html": [
       "<div>\n",
       "<style scoped>\n",
       "    .dataframe tbody tr th:only-of-type {\n",
       "        vertical-align: middle;\n",
       "    }\n",
       "\n",
       "    .dataframe tbody tr th {\n",
       "        vertical-align: top;\n",
       "    }\n",
       "\n",
       "    .dataframe thead th {\n",
       "        text-align: right;\n",
       "    }\n",
       "</style>\n",
       "<table border=\"1\" class=\"dataframe\">\n",
       "  <thead>\n",
       "    <tr style=\"text-align: right;\">\n",
       "      <th></th>\n",
       "      <th>Event ID</th>\n",
       "      <th>Name</th>\n",
       "    </tr>\n",
       "  </thead>\n",
       "  <tbody>\n",
       "    <tr>\n",
       "      <th>63</th>\n",
       "      <td>74</td>\n",
       "      <td>Blocked Pass</td>\n",
       "    </tr>\n",
       "    <tr>\n",
       "      <th>64</th>\n",
       "      <td>75</td>\n",
       "      <td>Delayed Start</td>\n",
       "    </tr>\n",
       "    <tr>\n",
       "      <th>65</th>\n",
       "      <td>76</td>\n",
       "      <td>Early end</td>\n",
       "    </tr>\n",
       "    <tr>\n",
       "      <th>66</th>\n",
       "      <td>77</td>\n",
       "      <td>Player Off Pitch</td>\n",
       "    </tr>\n",
       "    <tr>\n",
       "      <th>67</th>\n",
       "      <td>79</td>\n",
       "      <td>Coverage interuption</td>\n",
       "    </tr>\n",
       "  </tbody>\n",
       "</table>\n",
       "</div>"
      ],
      "text/plain": [
       "    Event ID                  Name\n",
       "63        74          Blocked Pass\n",
       "64        75         Delayed Start\n",
       "65        76             Early end\n",
       "66        77      Player Off Pitch\n",
       "67        79  Coverage interuption"
      ]
     },
     "execution_count": 16,
     "metadata": {},
     "output_type": "execute_result"
    }
   ],
   "source": [
    "event_type.sort_values(['Event ID']).tail()"
   ]
  },
  {
   "cell_type": "code",
   "execution_count": 17,
   "metadata": {},
   "outputs": [],
   "source": [
    "event_type = event_type.drop_duplicates(subset='Event ID').reset_index(drop = True).sort_values(['Event ID'])"
   ]
  },
  {
   "cell_type": "code",
   "execution_count": null,
   "metadata": {},
   "outputs": [],
   "source": [
    "event_type.to_csv('event.csv')"
   ]
  },
  {
   "cell_type": "markdown",
   "metadata": {},
   "source": [
    "#### 4.5 Les matchs :"
   ]
  },
  {
   "cell_type": "code",
   "execution_count": 8,
   "metadata": {},
   "outputs": [],
   "source": [
    "match = pd.read_csv('clean/matchs.csv')\n",
    "match['period_1_start'] = pd.to_datetime(match['period_1_start'],format='%Y-%m-%d')\n",
    "match['period_2_start'] = pd.to_datetime(match['period_2_start'],format='%Y-%m-%d')\n",
    "match = match.drop(columns=['period_3_start'])"
   ]
  },
  {
   "cell_type": "code",
   "execution_count": 9,
   "metadata": {},
   "outputs": [
    {
     "data": {
      "text/html": [
       "<div>\n",
       "<style scoped>\n",
       "    .dataframe tbody tr th:only-of-type {\n",
       "        vertical-align: middle;\n",
       "    }\n",
       "\n",
       "    .dataframe tbody tr th {\n",
       "        vertical-align: top;\n",
       "    }\n",
       "\n",
       "    .dataframe thead th {\n",
       "        text-align: right;\n",
       "    }\n",
       "</style>\n",
       "<table border=\"1\" class=\"dataframe\">\n",
       "  <thead>\n",
       "    <tr style=\"text-align: right;\">\n",
       "      <th></th>\n",
       "      <th>id</th>\n",
       "      <th>home_team</th>\n",
       "      <th>away_team</th>\n",
       "      <th>matchday</th>\n",
       "      <th>period_1_start</th>\n",
       "      <th>period_2_start</th>\n",
       "      <th>game_date</th>\n",
       "    </tr>\n",
       "  </thead>\n",
       "  <tbody>\n",
       "    <tr>\n",
       "      <th>0</th>\n",
       "      <td>853139</td>\n",
       "      <td>Nancy</td>\n",
       "      <td>Lyon</td>\n",
       "      <td>1</td>\n",
       "      <td>2016-08-14 14:00:25</td>\n",
       "      <td>2016-08-14 15:02:29</td>\n",
       "      <td>2016-08-14T14:00:00</td>\n",
       "    </tr>\n",
       "    <tr>\n",
       "      <th>1</th>\n",
       "      <td>853140</td>\n",
       "      <td>Bordeaux</td>\n",
       "      <td>St Etienne</td>\n",
       "      <td>1</td>\n",
       "      <td>2016-08-13 16:00:14</td>\n",
       "      <td>2016-08-13 17:04:08</td>\n",
       "      <td>2016-08-13T16:00:00</td>\n",
       "    </tr>\n",
       "    <tr>\n",
       "      <th>2</th>\n",
       "      <td>853141</td>\n",
       "      <td>Montpellier</td>\n",
       "      <td>Angers</td>\n",
       "      <td>1</td>\n",
       "      <td>2016-08-13 18:59:57</td>\n",
       "      <td>2016-08-13 20:00:58</td>\n",
       "      <td>2016-08-13T19:00:00</td>\n",
       "    </tr>\n",
       "    <tr>\n",
       "      <th>3</th>\n",
       "      <td>853142</td>\n",
       "      <td>Nice</td>\n",
       "      <td>Rennes</td>\n",
       "      <td>1</td>\n",
       "      <td>2016-08-14 16:00:03</td>\n",
       "      <td>2016-08-14 17:04:18</td>\n",
       "      <td>2016-08-14T16:00:00</td>\n",
       "    </tr>\n",
       "    <tr>\n",
       "      <th>4</th>\n",
       "      <td>853143</td>\n",
       "      <td>Marseille</td>\n",
       "      <td>Toulouse</td>\n",
       "      <td>1</td>\n",
       "      <td>2016-08-14 19:45:09</td>\n",
       "      <td>2016-08-14 20:48:46</td>\n",
       "      <td>2016-08-14T19:45:00</td>\n",
       "    </tr>\n",
       "  </tbody>\n",
       "</table>\n",
       "</div>"
      ],
      "text/plain": [
       "       id    home_team   away_team  matchday      period_1_start  \\\n",
       "0  853139        Nancy        Lyon         1 2016-08-14 14:00:25   \n",
       "1  853140     Bordeaux  St Etienne         1 2016-08-13 16:00:14   \n",
       "2  853141  Montpellier      Angers         1 2016-08-13 18:59:57   \n",
       "3  853142         Nice      Rennes         1 2016-08-14 16:00:03   \n",
       "4  853143    Marseille    Toulouse         1 2016-08-14 19:45:09   \n",
       "\n",
       "       period_2_start            game_date  \n",
       "0 2016-08-14 15:02:29  2016-08-14T14:00:00  \n",
       "1 2016-08-13 17:04:08  2016-08-13T16:00:00  \n",
       "2 2016-08-13 20:00:58  2016-08-13T19:00:00  \n",
       "3 2016-08-14 17:04:18  2016-08-14T16:00:00  \n",
       "4 2016-08-14 20:48:46  2016-08-14T19:45:00  "
      ]
     },
     "execution_count": 9,
     "metadata": {},
     "output_type": "execute_result"
    }
   ],
   "source": [
    "match.head()"
   ]
  },
  {
   "cell_type": "code",
   "execution_count": 20,
   "metadata": {},
   "outputs": [
    {
     "data": {
      "text/plain": [
       "Timedelta('0 days 01:01:52.568421')"
      ]
     },
     "execution_count": 20,
     "metadata": {},
     "output_type": "execute_result"
    }
   ],
   "source": [
    "(match['period_2_start']-match['period_1_start']).mean()"
   ]
  },
  {
   "cell_type": "code",
   "execution_count": 21,
   "metadata": {},
   "outputs": [
    {
     "data": {
      "text/plain": [
       "matchday\n",
       "1     10\n",
       "2     10\n",
       "3     10\n",
       "4     10\n",
       "5     10\n",
       "6     10\n",
       "7     10\n",
       "8     10\n",
       "9     10\n",
       "10    10\n",
       "11    10\n",
       "12    10\n",
       "13    10\n",
       "14    10\n",
       "15    10\n",
       "16    10\n",
       "17    10\n",
       "18    10\n",
       "19    10\n",
       "Name: id, dtype: int64"
      ]
     },
     "execution_count": 21,
     "metadata": {},
     "output_type": "execute_result"
    }
   ],
   "source": [
    "match.groupby('matchday')['id'].count()"
   ]
  },
  {
   "cell_type": "markdown",
   "metadata": {},
   "source": [
    "### 5 - Exploration des données\n",
    "\n",
    "#### 5.1 - Les équipes :"
   ]
  },
  {
   "cell_type": "markdown",
   "metadata": {},
   "source": []
  },
  {
   "cell_type": "code",
   "execution_count": 10,
   "metadata": {},
   "outputs": [
    {
     "data": {
      "text/plain": [
       "<matplotlib.axes._subplots.AxesSubplot at 0x18b585bc7f0>"
      ]
     },
     "execution_count": 10,
     "metadata": {},
     "output_type": "execute_result"
    },
    {
     "data": {
      "image/png": "[encoded data removed]",
      "text/plain": [
       "<Figure size 432x288 with 1 Axes>"
      ]
     },
     "metadata": {
      "needs_background": "light"
     },
     "output_type": "display_data"
    }
   ],
   "source": [
    "x = equipe.sort_values(by='stadium_capacity')\n",
    "x.plot.bar('nom','stadium_capacity')"
   ]
  },
  {
   "cell_type": "markdown",
   "metadata": {},
   "source": [
    "#### 5.2 - Les Joueurs :"
   ]
  },
  {
   "cell_type": "code",
   "execution_count": 48,
   "metadata": {},
   "outputs": [
    {
     "data": {
      "text/html": [
       "<div>\n",
       "<style scoped>\n",
       "    .dataframe tbody tr th:only-of-type {\n",
       "        vertical-align: middle;\n",
       "    }\n",
       "\n",
       "    .dataframe tbody tr th {\n",
       "        vertical-align: top;\n",
       "    }\n",
       "\n",
       "    .dataframe thead th {\n",
       "        text-align: right;\n",
       "    }\n",
       "</style>\n",
       "<table border=\"1\" class=\"dataframe\">\n",
       "  <thead>\n",
       "    <tr style=\"text-align: right;\">\n",
       "      <th></th>\n",
       "      <th>index</th>\n",
       "      <th>club</th>\n",
       "      <th>id</th>\n",
       "      <th>first_name</th>\n",
       "      <th>last_name</th>\n",
       "      <th>country</th>\n",
       "      <th>real_position</th>\n",
       "      <th>jersey_num</th>\n",
       "      <th>birth_date</th>\n",
       "      <th>weight</th>\n",
       "      <th>height</th>\n",
       "    </tr>\n",
       "  </thead>\n",
       "  <tbody>\n",
       "    <tr>\n",
       "      <th>count</th>\n",
       "      <td>762.000000</td>\n",
       "      <td>691</td>\n",
       "      <td>762</td>\n",
       "      <td>762</td>\n",
       "      <td>762</td>\n",
       "      <td>761</td>\n",
       "      <td>762</td>\n",
       "      <td>762</td>\n",
       "      <td>762</td>\n",
       "      <td>762</td>\n",
       "      <td>762</td>\n",
       "    </tr>\n",
       "    <tr>\n",
       "      <th>unique</th>\n",
       "      <td>NaN</td>\n",
       "      <td>20</td>\n",
       "      <td>762</td>\n",
       "      <td>484</td>\n",
       "      <td>728</td>\n",
       "      <td>66</td>\n",
       "      <td>11</td>\n",
       "      <td>43</td>\n",
       "      <td>710</td>\n",
       "      <td>40</td>\n",
       "      <td>38</td>\n",
       "    </tr>\n",
       "    <tr>\n",
       "      <th>top</th>\n",
       "      <td>NaN</td>\n",
       "      <td>Monaco</td>\n",
       "      <td>p49169</td>\n",
       "      <td>Romain</td>\n",
       "      <td>Diallo</td>\n",
       "      <td>France</td>\n",
       "      <td>Central Defender</td>\n",
       "      <td>Unknown</td>\n",
       "      <td>1996-03-29</td>\n",
       "      <td>75</td>\n",
       "      <td>180</td>\n",
       "    </tr>\n",
       "    <tr>\n",
       "      <th>freq</th>\n",
       "      <td>NaN</td>\n",
       "      <td>45</td>\n",
       "      <td>1</td>\n",
       "      <td>13</td>\n",
       "      <td>8</td>\n",
       "      <td>421</td>\n",
       "      <td>112</td>\n",
       "      <td>125</td>\n",
       "      <td>3</td>\n",
       "      <td>49</td>\n",
       "      <td>68</td>\n",
       "    </tr>\n",
       "    <tr>\n",
       "      <th>mean</th>\n",
       "      <td>387.988189</td>\n",
       "      <td>NaN</td>\n",
       "      <td>NaN</td>\n",
       "      <td>NaN</td>\n",
       "      <td>NaN</td>\n",
       "      <td>NaN</td>\n",
       "      <td>NaN</td>\n",
       "      <td>NaN</td>\n",
       "      <td>NaN</td>\n",
       "      <td>NaN</td>\n",
       "      <td>NaN</td>\n",
       "    </tr>\n",
       "    <tr>\n",
       "      <th>std</th>\n",
       "      <td>226.235074</td>\n",
       "      <td>NaN</td>\n",
       "      <td>NaN</td>\n",
       "      <td>NaN</td>\n",
       "      <td>NaN</td>\n",
       "      <td>NaN</td>\n",
       "      <td>NaN</td>\n",
       "      <td>NaN</td>\n",
       "      <td>NaN</td>\n",
       "      <td>NaN</td>\n",
       "      <td>NaN</td>\n",
       "    </tr>\n",
       "    <tr>\n",
       "      <th>min</th>\n",
       "      <td>0.000000</td>\n",
       "      <td>NaN</td>\n",
       "      <td>NaN</td>\n",
       "      <td>NaN</td>\n",
       "      <td>NaN</td>\n",
       "      <td>NaN</td>\n",
       "      <td>NaN</td>\n",
       "      <td>NaN</td>\n",
       "      <td>NaN</td>\n",
       "      <td>NaN</td>\n",
       "      <td>NaN</td>\n",
       "    </tr>\n",
       "    <tr>\n",
       "      <th>25%</th>\n",
       "      <td>192.250000</td>\n",
       "      <td>NaN</td>\n",
       "      <td>NaN</td>\n",
       "      <td>NaN</td>\n",
       "      <td>NaN</td>\n",
       "      <td>NaN</td>\n",
       "      <td>NaN</td>\n",
       "      <td>NaN</td>\n",
       "      <td>NaN</td>\n",
       "      <td>NaN</td>\n",
       "      <td>NaN</td>\n",
       "    </tr>\n",
       "    <tr>\n",
       "      <th>50%</th>\n",
       "      <td>385.500000</td>\n",
       "      <td>NaN</td>\n",
       "      <td>NaN</td>\n",
       "      <td>NaN</td>\n",
       "      <td>NaN</td>\n",
       "      <td>NaN</td>\n",
       "      <td>NaN</td>\n",
       "      <td>NaN</td>\n",
       "      <td>NaN</td>\n",
       "      <td>NaN</td>\n",
       "      <td>NaN</td>\n",
       "    </tr>\n",
       "    <tr>\n",
       "      <th>75%</th>\n",
       "      <td>581.750000</td>\n",
       "      <td>NaN</td>\n",
       "      <td>NaN</td>\n",
       "      <td>NaN</td>\n",
       "      <td>NaN</td>\n",
       "      <td>NaN</td>\n",
       "      <td>NaN</td>\n",
       "      <td>NaN</td>\n",
       "      <td>NaN</td>\n",
       "      <td>NaN</td>\n",
       "      <td>NaN</td>\n",
       "    </tr>\n",
       "    <tr>\n",
       "      <th>max</th>\n",
       "      <td>790.000000</td>\n",
       "      <td>NaN</td>\n",
       "      <td>NaN</td>\n",
       "      <td>NaN</td>\n",
       "      <td>NaN</td>\n",
       "      <td>NaN</td>\n",
       "      <td>NaN</td>\n",
       "      <td>NaN</td>\n",
       "      <td>NaN</td>\n",
       "      <td>NaN</td>\n",
       "      <td>NaN</td>\n",
       "    </tr>\n",
       "  </tbody>\n",
       "</table>\n",
       "</div>"
      ],
      "text/plain": [
       "             index    club      id first_name last_name country  \\\n",
       "count   762.000000     691     762        762       762     761   \n",
       "unique         NaN      20     762        484       728      66   \n",
       "top            NaN  Monaco  p49169     Romain    Diallo  France   \n",
       "freq           NaN      45       1         13         8     421   \n",
       "mean    387.988189     NaN     NaN        NaN       NaN     NaN   \n",
       "std     226.235074     NaN     NaN        NaN       NaN     NaN   \n",
       "min       0.000000     NaN     NaN        NaN       NaN     NaN   \n",
       "25%     192.250000     NaN     NaN        NaN       NaN     NaN   \n",
       "50%     385.500000     NaN     NaN        NaN       NaN     NaN   \n",
       "75%     581.750000     NaN     NaN        NaN       NaN     NaN   \n",
       "max     790.000000     NaN     NaN        NaN       NaN     NaN   \n",
       "\n",
       "           real_position jersey_num  birth_date weight height  \n",
       "count                762        762         762    762    762  \n",
       "unique                11         43         710     40     38  \n",
       "top     Central Defender    Unknown  1996-03-29     75    180  \n",
       "freq                 112        125           3     49     68  \n",
       "mean                 NaN        NaN         NaN    NaN    NaN  \n",
       "std                  NaN        NaN         NaN    NaN    NaN  \n",
       "min                  NaN        NaN         NaN    NaN    NaN  \n",
       "25%                  NaN        NaN         NaN    NaN    NaN  \n",
       "50%                  NaN        NaN         NaN    NaN    NaN  \n",
       "75%                  NaN        NaN         NaN    NaN    NaN  \n",
       "max                  NaN        NaN         NaN    NaN    NaN  "
      ]
     },
     "execution_count": 48,
     "metadata": {},
     "output_type": "execute_result"
    }
   ],
   "source": [
    "player.describe(include='all')"
   ]
  },
  {
   "cell_type": "code",
   "execution_count": 45,
   "metadata": {},
   "outputs": [
    {
     "data": {
      "text/plain": [
       "<matplotlib.axes._subplots.AxesSubplot at 0x2751b46bc88>"
      ]
     },
     "execution_count": 45,
     "metadata": {},
     "output_type": "execute_result"
    },
    {
     "data": {
      "image/png": "[encoded data removed]",
      "text/plain": [
       "<Figure size 432x288 with 1 Axes>"
      ]
     },
     "metadata": {},
     "output_type": "display_data"
    }
   ],
   "source": [
    "t = player.groupby('country')['id'].nunique().sort_values().tail(n=9)\n",
    "t.plot.pie()"
   ]
  },
  {
   "cell_type": "code",
   "execution_count": 51,
   "metadata": {},
   "outputs": [
    {
     "data": {
      "text/plain": [
       "real_position\n",
       "Wing Back                 5\n",
       "Second Striker           14\n",
       "Defensive Midfielder     52\n",
       "Attacking Midfielder     64\n",
       "Winger                   67\n",
       "Goalkeeper               76\n",
       "Central Midfielder       77\n",
       "Striker                  87\n",
       "Full Back               103\n",
       "Unknown                 105\n",
       "Central Defender        112\n",
       "Name: id, dtype: int64"
      ]
     },
     "execution_count": 51,
     "metadata": {},
     "output_type": "execute_result"
    }
   ],
   "source": [
    "player.groupby('real_position')['id'].nunique().sort_values()"
   ]
  },
  {
   "cell_type": "markdown",
   "metadata": {},
   "source": [
    "#### 5.3 Les Evenements\n",
    "\n",
    "Nous allons maintenant ressortir les données des évènements durant les matchs"
   ]
  },
  {
   "cell_type": "code",
   "execution_count": 9,
   "metadata": {},
   "outputs": [
    {
     "ename": "NameError",
     "evalue": "name 'event_type' is not defined",
     "output_type": "error",
     "traceback": [
      "\u001b[1;31m---------------------------------------------------------------------------\u001b[0m",
      "\u001b[1;31mNameError\u001b[0m                                 Traceback (most recent call last)",
      "\u001b[1;32m<ipython-input-9-0cde4841c852>\u001b[0m in \u001b[0;36m<module>\u001b[1;34m()\u001b[0m\n\u001b[0;32m      1\u001b[0m \u001b[0mevent\u001b[0m \u001b[1;33m=\u001b[0m \u001b[0mpd\u001b[0m\u001b[1;33m.\u001b[0m\u001b[0mread_csv\u001b[0m\u001b[1;33m(\u001b[0m\u001b[1;34m'events.csv'\u001b[0m\u001b[1;33m)\u001b[0m\u001b[1;33m\u001b[0m\u001b[0m\n\u001b[1;32m----> 2\u001b[1;33m \u001b[0mdfevent\u001b[0m \u001b[1;33m=\u001b[0m \u001b[0mevent\u001b[0m\u001b[1;33m.\u001b[0m\u001b[0mmerge\u001b[0m\u001b[1;33m(\u001b[0m\u001b[0mevent_type\u001b[0m\u001b[1;33m,\u001b[0m \u001b[0mleft_on\u001b[0m\u001b[1;33m=\u001b[0m\u001b[1;34m'type_id'\u001b[0m\u001b[1;33m,\u001b[0m \u001b[0mright_on\u001b[0m\u001b[1;33m=\u001b[0m\u001b[1;34m'Event ID'\u001b[0m\u001b[1;33m)\u001b[0m\u001b[1;33m\u001b[0m\u001b[0m\n\u001b[0m\u001b[0;32m      3\u001b[0m \u001b[0mdfevent\u001b[0m \u001b[1;33m=\u001b[0m \u001b[0mdfevent\u001b[0m\u001b[1;33m.\u001b[0m\u001b[0mmerge\u001b[0m\u001b[1;33m(\u001b[0m\u001b[0mmatch\u001b[0m\u001b[1;33m,\u001b[0m \u001b[0mleft_on\u001b[0m\u001b[1;33m=\u001b[0m\u001b[1;34m'game_id'\u001b[0m\u001b[1;33m,\u001b[0m \u001b[0mright_on\u001b[0m\u001b[1;33m=\u001b[0m\u001b[1;34m'id'\u001b[0m\u001b[1;33m)\u001b[0m\u001b[1;33m\u001b[0m\u001b[0m\n\u001b[0;32m      4\u001b[0m dfevent = dfevent[['game_id', 'id_x', 'event_id', 'type_id', 'period_id',\n\u001b[0;32m      5\u001b[0m        'min', 'sec', 'team_id', 'player_id', 'assist', 'keypass', 'x', 'y','last_modified','timestamp', 'Name', 'home_team', 'away_team', 'matchday']]\n",
      "\u001b[1;31mNameError\u001b[0m: name 'event_type' is not defined"
     ]
    }
   ],
   "source": [
    "event = pd.read_csv('events.csv')\n",
    "dfevent = event.merge(event_type, left_on='type_id', right_on='Event ID')\n",
    "dfevent = dfevent.merge(match, left_on='game_id', right_on='id')\n",
    "dfevent = dfevent[['game_id', 'id_x', 'event_id', 'type_id', 'period_id',\n",
    "       'min', 'sec', 'team_id', 'player_id', 'assist', 'keypass', 'x', 'y','last_modified','timestamp', 'Name', 'home_team', 'away_team', 'matchday']]"
   ]
  },
  {
   "cell_type": "markdown",
   "metadata": {},
   "source": [
    "Nous allons extraire les données d'un gardien en particulier, et nous allons ressortir les principaux évèneents qui sont reliés à un gardien dans un match."
   ]
  },
  {
   "cell_type": "code",
   "execution_count": null,
   "metadata": {},
   "outputs": [],
   "source": [
    "petric = dfevent[dfevent['player_id']==40511.0]\n",
    "petric.Name.value_counts().head(n=6).plot.pie()"
   ]
  },
  {
   "cell_type": "code",
   "execution_count": 7,
   "metadata": {},
   "outputs": [
    {
     "ename": "NameError",
     "evalue": "name 'dfevent' is not defined",
     "output_type": "error",
     "traceback": [
      "\u001b[1;31m---------------------------------------------------------------------------\u001b[0m",
      "\u001b[1;31mNameError\u001b[0m                                 Traceback (most recent call last)",
      "\u001b[1;32m<ipython-input-7-8db9a7413f98>\u001b[0m in \u001b[0;36m<module>\u001b[1;34m()\u001b[0m\n\u001b[1;32m----> 1\u001b[1;33m \u001b[0mdfevent\u001b[0m\u001b[1;33m[\u001b[0m\u001b[0mdfevent\u001b[0m\u001b[1;33m[\u001b[0m\u001b[1;34m'Name'\u001b[0m\u001b[1;33m]\u001b[0m\u001b[1;33m==\u001b[0m\u001b[1;34m'Goal'\u001b[0m\u001b[1;33m]\u001b[0m\u001b[1;33m\u001b[0m\u001b[0m\n\u001b[0m",
      "\u001b[1;31mNameError\u001b[0m: name 'dfevent' is not defined"
     ]
    }
   ],
   "source": [
    "dfevent[dfevent['Name']=='Goal']"
   ]
  },
  {
   "cell_type": "code",
   "execution_count": 26,
   "metadata": {},
   "outputs": [],
   "source": [
    "player['id'] = player['id'].map(lambda x: x.lstrip('p'))\n",
    "player['id'] = player['id'].astype('float64')"
   ]
  },
  {
   "cell_type": "code",
   "execution_count": 28,
   "metadata": {},
   "outputs": [],
   "source": [
    "dfevent = dfevent.merge(player, left_on='player_id', right_on='id')"
   ]
  },
  {
   "cell_type": "code",
   "execution_count": 32,
   "metadata": {},
   "outputs": [
    {
     "data": {
      "text/html": [
       "<div>\n",
       "<style scoped>\n",
       "    .dataframe tbody tr th:only-of-type {\n",
       "        vertical-align: middle;\n",
       "    }\n",
       "\n",
       "    .dataframe tbody tr th {\n",
       "        vertical-align: top;\n",
       "    }\n",
       "\n",
       "    .dataframe thead th {\n",
       "        text-align: right;\n",
       "    }\n",
       "</style>\n",
       "<table border=\"1\" class=\"dataframe\">\n",
       "  <thead>\n",
       "    <tr style=\"text-align: right;\">\n",
       "      <th></th>\n",
       "      <th>game_id</th>\n",
       "      <th>id_x</th>\n",
       "      <th>event_id</th>\n",
       "      <th>type_id</th>\n",
       "      <th>period_id</th>\n",
       "      <th>min</th>\n",
       "      <th>sec</th>\n",
       "      <th>team_id</th>\n",
       "      <th>player_id</th>\n",
       "      <th>assist</th>\n",
       "      <th>...</th>\n",
       "      <th>club_y</th>\n",
       "      <th>id_y</th>\n",
       "      <th>first_name_y</th>\n",
       "      <th>last_name_y</th>\n",
       "      <th>country_y</th>\n",
       "      <th>real_position_y</th>\n",
       "      <th>jersey_num_y</th>\n",
       "      <th>birth_date_y</th>\n",
       "      <th>weight_y</th>\n",
       "      <th>height_y</th>\n",
       "    </tr>\n",
       "  </thead>\n",
       "  <tbody>\n",
       "    <tr>\n",
       "      <th>0</th>\n",
       "      <td>853139</td>\n",
       "      <td>1399491333</td>\n",
       "      <td>3</td>\n",
       "      <td>1</td>\n",
       "      <td>1</td>\n",
       "      <td>0</td>\n",
       "      <td>1</td>\n",
       "      <td>148</td>\n",
       "      <td>51327.0</td>\n",
       "      <td>NaN</td>\n",
       "      <td>...</td>\n",
       "      <td>Nancy</td>\n",
       "      <td>51327.0</td>\n",
       "      <td>Maurice Junior</td>\n",
       "      <td>Dalé</td>\n",
       "      <td>France</td>\n",
       "      <td>Striker</td>\n",
       "      <td>9</td>\n",
       "      <td>1985-07-12</td>\n",
       "      <td>81</td>\n",
       "      <td>186</td>\n",
       "    </tr>\n",
       "    <tr>\n",
       "      <th>1</th>\n",
       "      <td>853139</td>\n",
       "      <td>794857074</td>\n",
       "      <td>34</td>\n",
       "      <td>1</td>\n",
       "      <td>1</td>\n",
       "      <td>3</td>\n",
       "      <td>37</td>\n",
       "      <td>148</td>\n",
       "      <td>51327.0</td>\n",
       "      <td>NaN</td>\n",
       "      <td>...</td>\n",
       "      <td>Nancy</td>\n",
       "      <td>51327.0</td>\n",
       "      <td>Maurice Junior</td>\n",
       "      <td>Dalé</td>\n",
       "      <td>France</td>\n",
       "      <td>Striker</td>\n",
       "      <td>9</td>\n",
       "      <td>1985-07-12</td>\n",
       "      <td>81</td>\n",
       "      <td>186</td>\n",
       "    </tr>\n",
       "    <tr>\n",
       "      <th>2</th>\n",
       "      <td>853139</td>\n",
       "      <td>240906126</td>\n",
       "      <td>95</td>\n",
       "      <td>1</td>\n",
       "      <td>1</td>\n",
       "      <td>10</td>\n",
       "      <td>33</td>\n",
       "      <td>148</td>\n",
       "      <td>51327.0</td>\n",
       "      <td>NaN</td>\n",
       "      <td>...</td>\n",
       "      <td>Nancy</td>\n",
       "      <td>51327.0</td>\n",
       "      <td>Maurice Junior</td>\n",
       "      <td>Dalé</td>\n",
       "      <td>France</td>\n",
       "      <td>Striker</td>\n",
       "      <td>9</td>\n",
       "      <td>1985-07-12</td>\n",
       "      <td>81</td>\n",
       "      <td>186</td>\n",
       "    </tr>\n",
       "    <tr>\n",
       "      <th>3</th>\n",
       "      <td>853139</td>\n",
       "      <td>1780493684</td>\n",
       "      <td>191</td>\n",
       "      <td>1</td>\n",
       "      <td>1</td>\n",
       "      <td>22</td>\n",
       "      <td>16</td>\n",
       "      <td>148</td>\n",
       "      <td>51327.0</td>\n",
       "      <td>NaN</td>\n",
       "      <td>...</td>\n",
       "      <td>Nancy</td>\n",
       "      <td>51327.0</td>\n",
       "      <td>Maurice Junior</td>\n",
       "      <td>Dalé</td>\n",
       "      <td>France</td>\n",
       "      <td>Striker</td>\n",
       "      <td>9</td>\n",
       "      <td>1985-07-12</td>\n",
       "      <td>81</td>\n",
       "      <td>186</td>\n",
       "    </tr>\n",
       "    <tr>\n",
       "      <th>4</th>\n",
       "      <td>853139</td>\n",
       "      <td>1631730692</td>\n",
       "      <td>262</td>\n",
       "      <td>1</td>\n",
       "      <td>1</td>\n",
       "      <td>33</td>\n",
       "      <td>1</td>\n",
       "      <td>148</td>\n",
       "      <td>51327.0</td>\n",
       "      <td>NaN</td>\n",
       "      <td>...</td>\n",
       "      <td>Nancy</td>\n",
       "      <td>51327.0</td>\n",
       "      <td>Maurice Junior</td>\n",
       "      <td>Dalé</td>\n",
       "      <td>France</td>\n",
       "      <td>Striker</td>\n",
       "      <td>9</td>\n",
       "      <td>1985-07-12</td>\n",
       "      <td>81</td>\n",
       "      <td>186</td>\n",
       "    </tr>\n",
       "  </tbody>\n",
       "</table>\n",
       "<p>5 rows × 41 columns</p>\n",
       "</div>"
      ],
      "text/plain": [
       "   game_id        id_x  event_id  type_id  period_id  min  sec  team_id  \\\n",
       "0   853139  1399491333         3        1          1    0    1      148   \n",
       "1   853139   794857074        34        1          1    3   37      148   \n",
       "2   853139   240906126        95        1          1   10   33      148   \n",
       "3   853139  1780493684       191        1          1   22   16      148   \n",
       "4   853139  1631730692       262        1          1   33    1      148   \n",
       "\n",
       "   player_id  assist    ...     club_y     id_y    first_name_y last_name_y  \\\n",
       "0    51327.0     NaN    ...      Nancy  51327.0  Maurice Junior        Dalé   \n",
       "1    51327.0     NaN    ...      Nancy  51327.0  Maurice Junior        Dalé   \n",
       "2    51327.0     NaN    ...      Nancy  51327.0  Maurice Junior        Dalé   \n",
       "3    51327.0     NaN    ...      Nancy  51327.0  Maurice Junior        Dalé   \n",
       "4    51327.0     NaN    ...      Nancy  51327.0  Maurice Junior        Dalé   \n",
       "\n",
       "  country_y real_position_y jersey_num_y birth_date_y  weight_y  height_y  \n",
       "0    France         Striker            9   1985-07-12        81       186  \n",
       "1    France         Striker            9   1985-07-12        81       186  \n",
       "2    France         Striker            9   1985-07-12        81       186  \n",
       "3    France         Striker            9   1985-07-12        81       186  \n",
       "4    France         Striker            9   1985-07-12        81       186  \n",
       "\n",
       "[5 rows x 41 columns]"
      ]
     },
     "execution_count": 32,
     "metadata": {},
     "output_type": "execute_result"
    }
   ],
   "source": [
    "dfevent.head()"
   ]
  },
  {
   "cell_type": "code",
   "execution_count": 33,
   "metadata": {},
   "outputs": [],
   "source": [
    "conditions = [(dfevent['Name'] == 'Goal'),(dfevent['Name'] != 'Goal')]\n",
    "choices = [1,0]\n",
    "dfevent['check'] = np.select(conditions, choices, default=0)"
   ]
  },
  {
   "cell_type": "code",
   "execution_count": 38,
   "metadata": {},
   "outputs": [],
   "source": [
    "dfevent = dfevent.drop(columns=['Name'])"
   ]
  },
  {
   "cell_type": "code",
   "execution_count": 40,
   "metadata": {},
   "outputs": [
    {
     "data": {
      "text/html": [
       "<div>\n",
       "<style scoped>\n",
       "    .dataframe tbody tr th:only-of-type {\n",
       "        vertical-align: middle;\n",
       "    }\n",
       "\n",
       "    .dataframe tbody tr th {\n",
       "        vertical-align: top;\n",
       "    }\n",
       "\n",
       "    .dataframe thead th {\n",
       "        text-align: right;\n",
       "    }\n",
       "</style>\n",
       "<table border=\"1\" class=\"dataframe\">\n",
       "  <thead>\n",
       "    <tr style=\"text-align: right;\">\n",
       "      <th></th>\n",
       "      <th>game_id</th>\n",
       "      <th>id_x</th>\n",
       "      <th>event_id</th>\n",
       "      <th>type_id</th>\n",
       "      <th>period_id</th>\n",
       "      <th>min</th>\n",
       "      <th>sec</th>\n",
       "      <th>team_id</th>\n",
       "      <th>player_id</th>\n",
       "      <th>assist</th>\n",
       "      <th>...</th>\n",
       "      <th>id_y</th>\n",
       "      <th>first_name_y</th>\n",
       "      <th>last_name_y</th>\n",
       "      <th>country_y</th>\n",
       "      <th>real_position_y</th>\n",
       "      <th>jersey_num_y</th>\n",
       "      <th>birth_date_y</th>\n",
       "      <th>weight_y</th>\n",
       "      <th>height_y</th>\n",
       "      <th>check</th>\n",
       "    </tr>\n",
       "  </thead>\n",
       "  <tbody>\n",
       "    <tr>\n",
       "      <th>0</th>\n",
       "      <td>853139</td>\n",
       "      <td>1399491333</td>\n",
       "      <td>3</td>\n",
       "      <td>1</td>\n",
       "      <td>1</td>\n",
       "      <td>0</td>\n",
       "      <td>1</td>\n",
       "      <td>148</td>\n",
       "      <td>51327.0</td>\n",
       "      <td>NaN</td>\n",
       "      <td>...</td>\n",
       "      <td>51327.0</td>\n",
       "      <td>Maurice Junior</td>\n",
       "      <td>Dalé</td>\n",
       "      <td>France</td>\n",
       "      <td>Striker</td>\n",
       "      <td>9</td>\n",
       "      <td>1985-07-12</td>\n",
       "      <td>81</td>\n",
       "      <td>186</td>\n",
       "      <td>0</td>\n",
       "    </tr>\n",
       "    <tr>\n",
       "      <th>1</th>\n",
       "      <td>853139</td>\n",
       "      <td>794857074</td>\n",
       "      <td>34</td>\n",
       "      <td>1</td>\n",
       "      <td>1</td>\n",
       "      <td>3</td>\n",
       "      <td>37</td>\n",
       "      <td>148</td>\n",
       "      <td>51327.0</td>\n",
       "      <td>NaN</td>\n",
       "      <td>...</td>\n",
       "      <td>51327.0</td>\n",
       "      <td>Maurice Junior</td>\n",
       "      <td>Dalé</td>\n",
       "      <td>France</td>\n",
       "      <td>Striker</td>\n",
       "      <td>9</td>\n",
       "      <td>1985-07-12</td>\n",
       "      <td>81</td>\n",
       "      <td>186</td>\n",
       "      <td>0</td>\n",
       "    </tr>\n",
       "    <tr>\n",
       "      <th>2</th>\n",
       "      <td>853139</td>\n",
       "      <td>240906126</td>\n",
       "      <td>95</td>\n",
       "      <td>1</td>\n",
       "      <td>1</td>\n",
       "      <td>10</td>\n",
       "      <td>33</td>\n",
       "      <td>148</td>\n",
       "      <td>51327.0</td>\n",
       "      <td>NaN</td>\n",
       "      <td>...</td>\n",
       "      <td>51327.0</td>\n",
       "      <td>Maurice Junior</td>\n",
       "      <td>Dalé</td>\n",
       "      <td>France</td>\n",
       "      <td>Striker</td>\n",
       "      <td>9</td>\n",
       "      <td>1985-07-12</td>\n",
       "      <td>81</td>\n",
       "      <td>186</td>\n",
       "      <td>0</td>\n",
       "    </tr>\n",
       "    <tr>\n",
       "      <th>3</th>\n",
       "      <td>853139</td>\n",
       "      <td>1780493684</td>\n",
       "      <td>191</td>\n",
       "      <td>1</td>\n",
       "      <td>1</td>\n",
       "      <td>22</td>\n",
       "      <td>16</td>\n",
       "      <td>148</td>\n",
       "      <td>51327.0</td>\n",
       "      <td>NaN</td>\n",
       "      <td>...</td>\n",
       "      <td>51327.0</td>\n",
       "      <td>Maurice Junior</td>\n",
       "      <td>Dalé</td>\n",
       "      <td>France</td>\n",
       "      <td>Striker</td>\n",
       "      <td>9</td>\n",
       "      <td>1985-07-12</td>\n",
       "      <td>81</td>\n",
       "      <td>186</td>\n",
       "      <td>0</td>\n",
       "    </tr>\n",
       "    <tr>\n",
       "      <th>4</th>\n",
       "      <td>853139</td>\n",
       "      <td>1631730692</td>\n",
       "      <td>262</td>\n",
       "      <td>1</td>\n",
       "      <td>1</td>\n",
       "      <td>33</td>\n",
       "      <td>1</td>\n",
       "      <td>148</td>\n",
       "      <td>51327.0</td>\n",
       "      <td>NaN</td>\n",
       "      <td>...</td>\n",
       "      <td>51327.0</td>\n",
       "      <td>Maurice Junior</td>\n",
       "      <td>Dalé</td>\n",
       "      <td>France</td>\n",
       "      <td>Striker</td>\n",
       "      <td>9</td>\n",
       "      <td>1985-07-12</td>\n",
       "      <td>81</td>\n",
       "      <td>186</td>\n",
       "      <td>0</td>\n",
       "    </tr>\n",
       "  </tbody>\n",
       "</table>\n",
       "<p>5 rows × 41 columns</p>\n",
       "</div>"
      ],
      "text/plain": [
       "   game_id        id_x  event_id  type_id  period_id  min  sec  team_id  \\\n",
       "0   853139  1399491333         3        1          1    0    1      148   \n",
       "1   853139   794857074        34        1          1    3   37      148   \n",
       "2   853139   240906126        95        1          1   10   33      148   \n",
       "3   853139  1780493684       191        1          1   22   16      148   \n",
       "4   853139  1631730692       262        1          1   33    1      148   \n",
       "\n",
       "   player_id  assist  ...      id_y    first_name_y  last_name_y country_y  \\\n",
       "0    51327.0     NaN  ...   51327.0  Maurice Junior         Dalé    France   \n",
       "1    51327.0     NaN  ...   51327.0  Maurice Junior         Dalé    France   \n",
       "2    51327.0     NaN  ...   51327.0  Maurice Junior         Dalé    France   \n",
       "3    51327.0     NaN  ...   51327.0  Maurice Junior         Dalé    France   \n",
       "4    51327.0     NaN  ...   51327.0  Maurice Junior         Dalé    France   \n",
       "\n",
       "  real_position_y jersey_num_y birth_date_y  weight_y  height_y check  \n",
       "0         Striker            9   1985-07-12        81       186     0  \n",
       "1         Striker            9   1985-07-12        81       186     0  \n",
       "2         Striker            9   1985-07-12        81       186     0  \n",
       "3         Striker            9   1985-07-12        81       186     0  \n",
       "4         Striker            9   1985-07-12        81       186     0  \n",
       "\n",
       "[5 rows x 41 columns]"
      ]
     },
     "execution_count": 40,
     "metadata": {},
     "output_type": "execute_result"
    }
   ],
   "source": [
    "dfevent.head()"
   ]
  },
  {
   "cell_type": "code",
   "execution_count": 46,
   "metadata": {},
   "outputs": [],
   "source": [
    "dfevent.to_csv('dfevent.csv')"
   ]
  },
  {
   "cell_type": "markdown",
   "metadata": {},
   "source": [
    "### Modélisation :"
   ]
  },
  {
   "cell_type": "code",
   "execution_count": 41,
   "metadata": {},
   "outputs": [],
   "source": [
    "from sklearn.model_selection import train_test_split\n",
    "from sklearn.ensemble import RandomForestClassifier"
   ]
  },
  {
   "cell_type": "code",
   "execution_count": 44,
   "metadata": {},
   "outputs": [
    {
     "data": {
      "text/plain": [
       "game_id              int64\n",
       "id_x                 int64\n",
       "event_id             int64\n",
       "type_id              int64\n",
       "period_id            int64\n",
       "min                  int64\n",
       "sec                  int64\n",
       "team_id              int64\n",
       "player_id          float64\n",
       "assist             float64\n",
       "keypass            float64\n",
       "x                  float64\n",
       "y                  float64\n",
       "last_modified       object\n",
       "timestamp           object\n",
       "home_team           object\n",
       "away_team           object\n",
       "matchday             int64\n",
       "index_x              int64\n",
       "club_x              object\n",
       "id_x               float64\n",
       "first_name_x        object\n",
       "last_name_x         object\n",
       "country_x           object\n",
       "real_position_x     object\n",
       "jersey_num_x        object\n",
       "birth_date_x        object\n",
       "weight_x            object\n",
       "height_x            object\n",
       "index_y              int64\n",
       "club_y              object\n",
       "id_y               float64\n",
       "first_name_y        object\n",
       "last_name_y         object\n",
       "country_y           object\n",
       "real_position_y     object\n",
       "jersey_num_y        object\n",
       "birth_date_y        object\n",
       "weight_y            object\n",
       "height_y            object\n",
       "check                int32\n",
       "dtype: object"
      ]
     },
     "execution_count": 44,
     "metadata": {},
     "output_type": "execute_result"
    }
   ],
   "source": [
    "dfevent.dtypes"
   ]
  },
  {
   "cell_type": "code",
   "execution_count": 48,
   "metadata": {},
   "outputs": [
    {
     "data": {
      "text/plain": [
       "Index(['game_id', 'id_x', 'event_id', 'type_id', 'period_id', 'min', 'sec',\n",
       "       'team_id', 'player_id', 'assist', 'keypass', 'x', 'y', 'last_modified',\n",
       "       'timestamp', 'home_team', 'away_team', 'matchday', 'index_x', 'club_x',\n",
       "       'id_x', 'first_name_x', 'last_name_x', 'country_x', 'real_position_x',\n",
       "       'jersey_num_x', 'birth_date_x', 'weight_x', 'height_x', 'index_y',\n",
       "       'club_y', 'id_y', 'first_name_y', 'last_name_y', 'country_y',\n",
       "       'real_position_y', 'jersey_num_y', 'birth_date_y', 'weight_y',\n",
       "       'height_y', 'check'],\n",
       "      dtype='object')"
      ]
     },
     "execution_count": 48,
     "metadata": {},
     "output_type": "execute_result"
    }
   ],
   "source": [
    "dfevent.columns"
   ]
  },
  {
   "cell_type": "code",
   "execution_count": 4,
   "metadata": {},
   "outputs": [],
   "source": [
    "numerical_features = ['game_id', 'id_x', 'event_id', 'type_id', 'period_id', 'min', 'sec','team_id', 'player_id', 'assist', 'keypass', 'x', 'y','id_x']\n",
    "X = dfevent[numerical_features]\n",
    "y = dfevent['check']\n",
    "train_X, val_X, train_y, val_y = train_test_split(X, y, random_state=1)\n",
    "model = RandomForestClassifier(random_state=0).fit(train_X, train_y)"
   ]
  },
  {
   "cell_type": "markdown",
   "metadata": {},
   "source": [
    "### Interpretation"
   ]
  },
  {
   "cell_type": "code",
   "execution_count": null,
   "metadata": {},
   "outputs": [],
   "source": [
    "import shap "
   ]
  },
  {
   "cell_type": "code",
   "execution_count": null,
   "metadata": {},
   "outputs": [],
   "source": [
    "df_prediction_A = val_X.iloc[Team_A] \n",
    "df_prediction_array_A = data_for_prediction_A.values.reshape(1, -1)\n",
    "\n",
    "# creation d'un model shap\n",
    "explainer = shap.TreeExplainer(model)\n",
    "\n",
    "# Calcul des valeurs shap \n",
    "shap_values = explainer.shap_values(df_prediction_A)\n",
    "\n",
    "# prediction des probabilités\n",
    "prob_A = model.predict_proba(df_prediction_array_A)\n",
    "\n",
    "print('prob to goal : ',prob_A)"
   ]
  },
  {
   "cell_type": "code",
   "execution_count": null,
   "metadata": {},
   "outputs": [],
   "source": [
    "# visualisation des valeurs shap\n",
    "shap.initjs()\n",
    "shap.force_plot(explainer.expected_value[1], shap_values[1], df_prediction_A)"
   ]
  },
  {
   "cell_type": "code",
   "execution_count": null,
   "metadata": {},
   "outputs": [],
   "source": []
  }
 ],
 "metadata": {
  "kernelspec": {
   "display_name": "Python 3",
   "language": "python",
   "name": "python3"
  },
  "language_info": {
   "codemirror_mode": {
    "name": "ipython",
    "version": 3
   },
   "file_extension": ".py",
   "mimetype": "text/x-python",
   "name": "python",
   "nbconvert_exporter": "python",
   "pygments_lexer": "ipython3",
   "version": "3.7.0"
  }
 },
 "nbformat": 4,
 "nbformat_minor": 2
}
