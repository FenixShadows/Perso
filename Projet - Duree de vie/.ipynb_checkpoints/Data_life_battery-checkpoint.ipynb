{
 "cells": [
  {
   "cell_type": "markdown",
   "metadata": {},
   "source": [
    "## Durée de vie des disques durs :\n",
    "Dans un premier temps il est question de faire un point sur les données que nous obtenons. \n",
    "\n",
    "### 1- Chargement des données "
   ]
  },
  {
   "cell_type": "code",
   "execution_count": 1,
   "metadata": {},
   "outputs": [],
   "source": [
    "# Importation des modules nécessaires\n",
    "import pandas as pd\n",
    "import scipy.io as sio\n",
    "import numpy as np\n",
    "import matplotlib.pyplot as plt\n",
    "import glob\n",
    "from datetime import datetime\n",
    "import time"
   ]
  },
  {
   "cell_type": "code",
   "execution_count": 2,
   "metadata": {},
   "outputs": [],
   "source": [
    "data = pd.DataFrame()\n",
    "i = 0"
   ]
  },
  {
   "cell_type": "code",
   "execution_count": 3,
   "metadata": {},
   "outputs": [
    {
     "name": "stdout",
     "output_type": "stream",
     "text": [
      "file 0 save\n"
     ]
    }
   ],
   "source": [
    "# Chargement d'un fichier pour analyse des données\n",
    "for file in glob.glob(\"data/*.csv\"):\n",
    "    df = pd.read_csv(file)\n",
    "    data = data.append(df)\n",
    "    print(\"file {a} save\".format(a=i))\n",
    "    i += 1\n",
    "    break"
   ]
  },
  {
   "cell_type": "code",
   "execution_count": 21,
   "metadata": {},
   "outputs": [],
   "source": [
    "# Chargement des données complètes\n",
    "data = pd.read_csv('donne.csv')"
   ]
  },
  {
   "cell_type": "markdown",
   "metadata": {},
   "source": [
    "### 2- Aperçu des données"
   ]
  },
  {
   "cell_type": "code",
   "execution_count": 4,
   "metadata": {},
   "outputs": [
    {
     "data": {
      "text/html": [
       "<div>\n",
       "<style scoped>\n",
       "    .dataframe tbody tr th:only-of-type {\n",
       "        vertical-align: middle;\n",
       "    }\n",
       "\n",
       "    .dataframe tbody tr th {\n",
       "        vertical-align: top;\n",
       "    }\n",
       "\n",
       "    .dataframe thead th {\n",
       "        text-align: right;\n",
       "    }\n",
       "</style>\n",
       "<table border=\"1\" class=\"dataframe\">\n",
       "  <thead>\n",
       "    <tr style=\"text-align: right;\">\n",
       "      <th></th>\n",
       "      <th>date</th>\n",
       "      <th>serial_number</th>\n",
       "      <th>model</th>\n",
       "      <th>capacity_bytes</th>\n",
       "      <th>failure</th>\n",
       "      <th>smart_1_normalized</th>\n",
       "      <th>smart_1_raw</th>\n",
       "      <th>smart_2_normalized</th>\n",
       "      <th>smart_2_raw</th>\n",
       "      <th>smart_3_normalized</th>\n",
       "      <th>...</th>\n",
       "      <th>smart_250_normalized</th>\n",
       "      <th>smart_250_raw</th>\n",
       "      <th>smart_251_normalized</th>\n",
       "      <th>smart_251_raw</th>\n",
       "      <th>smart_252_normalized</th>\n",
       "      <th>smart_252_raw</th>\n",
       "      <th>smart_254_normalized</th>\n",
       "      <th>smart_254_raw</th>\n",
       "      <th>smart_255_normalized</th>\n",
       "      <th>smart_255_raw</th>\n",
       "    </tr>\n",
       "  </thead>\n",
       "  <tbody>\n",
       "    <tr>\n",
       "      <th>0</th>\n",
       "      <td>2019-01-01</td>\n",
       "      <td>Z305B2QN</td>\n",
       "      <td>ST4000DM000</td>\n",
       "      <td>4000787030016</td>\n",
       "      <td>0</td>\n",
       "      <td>111</td>\n",
       "      <td>35673128</td>\n",
       "      <td>NaN</td>\n",
       "      <td>NaN</td>\n",
       "      <td>91.0</td>\n",
       "      <td>...</td>\n",
       "      <td>NaN</td>\n",
       "      <td>NaN</td>\n",
       "      <td>NaN</td>\n",
       "      <td>NaN</td>\n",
       "      <td>NaN</td>\n",
       "      <td>NaN</td>\n",
       "      <td>NaN</td>\n",
       "      <td>NaN</td>\n",
       "      <td>NaN</td>\n",
       "      <td>NaN</td>\n",
       "    </tr>\n",
       "    <tr>\n",
       "      <th>1</th>\n",
       "      <td>2019-01-01</td>\n",
       "      <td>ZJV0XJQ4</td>\n",
       "      <td>ST12000NM0007</td>\n",
       "      <td>12000138625024</td>\n",
       "      <td>0</td>\n",
       "      <td>83</td>\n",
       "      <td>187116872</td>\n",
       "      <td>NaN</td>\n",
       "      <td>NaN</td>\n",
       "      <td>98.0</td>\n",
       "      <td>...</td>\n",
       "      <td>NaN</td>\n",
       "      <td>NaN</td>\n",
       "      <td>NaN</td>\n",
       "      <td>NaN</td>\n",
       "      <td>NaN</td>\n",
       "      <td>NaN</td>\n",
       "      <td>NaN</td>\n",
       "      <td>NaN</td>\n",
       "      <td>NaN</td>\n",
       "      <td>NaN</td>\n",
       "    </tr>\n",
       "    <tr>\n",
       "      <th>2</th>\n",
       "      <td>2019-01-01</td>\n",
       "      <td>ZJV0XJQ3</td>\n",
       "      <td>ST12000NM0007</td>\n",
       "      <td>12000138625024</td>\n",
       "      <td>0</td>\n",
       "      <td>73</td>\n",
       "      <td>19599104</td>\n",
       "      <td>NaN</td>\n",
       "      <td>NaN</td>\n",
       "      <td>99.0</td>\n",
       "      <td>...</td>\n",
       "      <td>NaN</td>\n",
       "      <td>NaN</td>\n",
       "      <td>NaN</td>\n",
       "      <td>NaN</td>\n",
       "      <td>NaN</td>\n",
       "      <td>NaN</td>\n",
       "      <td>NaN</td>\n",
       "      <td>NaN</td>\n",
       "      <td>NaN</td>\n",
       "      <td>NaN</td>\n",
       "    </tr>\n",
       "    <tr>\n",
       "      <th>3</th>\n",
       "      <td>2019-01-01</td>\n",
       "      <td>ZJV0XJQ0</td>\n",
       "      <td>ST12000NM0007</td>\n",
       "      <td>12000138625024</td>\n",
       "      <td>0</td>\n",
       "      <td>81</td>\n",
       "      <td>136943696</td>\n",
       "      <td>NaN</td>\n",
       "      <td>NaN</td>\n",
       "      <td>93.0</td>\n",
       "      <td>...</td>\n",
       "      <td>NaN</td>\n",
       "      <td>NaN</td>\n",
       "      <td>NaN</td>\n",
       "      <td>NaN</td>\n",
       "      <td>NaN</td>\n",
       "      <td>NaN</td>\n",
       "      <td>NaN</td>\n",
       "      <td>NaN</td>\n",
       "      <td>NaN</td>\n",
       "      <td>NaN</td>\n",
       "    </tr>\n",
       "    <tr>\n",
       "      <th>4</th>\n",
       "      <td>2019-01-01</td>\n",
       "      <td>PL1331LAHG1S4H</td>\n",
       "      <td>HGST HMS5C4040ALE640</td>\n",
       "      <td>4000787030016</td>\n",
       "      <td>0</td>\n",
       "      <td>100</td>\n",
       "      <td>0</td>\n",
       "      <td>134.0</td>\n",
       "      <td>103.0</td>\n",
       "      <td>100.0</td>\n",
       "      <td>...</td>\n",
       "      <td>NaN</td>\n",
       "      <td>NaN</td>\n",
       "      <td>NaN</td>\n",
       "      <td>NaN</td>\n",
       "      <td>NaN</td>\n",
       "      <td>NaN</td>\n",
       "      <td>NaN</td>\n",
       "      <td>NaN</td>\n",
       "      <td>NaN</td>\n",
       "      <td>NaN</td>\n",
       "    </tr>\n",
       "  </tbody>\n",
       "</table>\n",
       "<p>5 rows × 129 columns</p>\n",
       "</div>"
      ],
      "text/plain": [
       "         date   serial_number                 model  capacity_bytes  failure  \\\n",
       "0  2019-01-01        Z305B2QN           ST4000DM000   4000787030016        0   \n",
       "1  2019-01-01        ZJV0XJQ4         ST12000NM0007  12000138625024        0   \n",
       "2  2019-01-01        ZJV0XJQ3         ST12000NM0007  12000138625024        0   \n",
       "3  2019-01-01        ZJV0XJQ0         ST12000NM0007  12000138625024        0   \n",
       "4  2019-01-01  PL1331LAHG1S4H  HGST HMS5C4040ALE640   4000787030016        0   \n",
       "\n",
       "   smart_1_normalized  smart_1_raw  smart_2_normalized  smart_2_raw  \\\n",
       "0                 111     35673128                 NaN          NaN   \n",
       "1                  83    187116872                 NaN          NaN   \n",
       "2                  73     19599104                 NaN          NaN   \n",
       "3                  81    136943696                 NaN          NaN   \n",
       "4                 100            0               134.0        103.0   \n",
       "\n",
       "   smart_3_normalized      ...        smart_250_normalized  smart_250_raw  \\\n",
       "0                91.0      ...                         NaN            NaN   \n",
       "1                98.0      ...                         NaN            NaN   \n",
       "2                99.0      ...                         NaN            NaN   \n",
       "3                93.0      ...                         NaN            NaN   \n",
       "4               100.0      ...                         NaN            NaN   \n",
       "\n",
       "   smart_251_normalized  smart_251_raw  smart_252_normalized  smart_252_raw  \\\n",
       "0                   NaN            NaN                   NaN            NaN   \n",
       "1                   NaN            NaN                   NaN            NaN   \n",
       "2                   NaN            NaN                   NaN            NaN   \n",
       "3                   NaN            NaN                   NaN            NaN   \n",
       "4                   NaN            NaN                   NaN            NaN   \n",
       "\n",
       "   smart_254_normalized  smart_254_raw  smart_255_normalized  smart_255_raw  \n",
       "0                   NaN            NaN                   NaN            NaN  \n",
       "1                   NaN            NaN                   NaN            NaN  \n",
       "2                   NaN            NaN                   NaN            NaN  \n",
       "3                   NaN            NaN                   NaN            NaN  \n",
       "4                   NaN            NaN                   NaN            NaN  \n",
       "\n",
       "[5 rows x 129 columns]"
      ]
     },
     "execution_count": 4,
     "metadata": {},
     "output_type": "execute_result"
    }
   ],
   "source": [
    "# Apercu des données\n",
    "data.head()"
   ]
  },
  {
   "cell_type": "markdown",
   "metadata": {},
   "source": [
    "On effectue d'abord un aperçu rapide des données. On constate que l'on a à la fois des données quantitatives et qualitatives. On constate que plusieurs colonnes ne comportent pas de valeur, cela peut donner comme intuition de s'assurer que l'on a pas de colonnes inutiles. La colone qui marque la défaillance ici est  <i> failure </i>"
   ]
  },
  {
   "cell_type": "code",
   "execution_count": 5,
   "metadata": {},
   "outputs": [
    {
     "data": {
      "text/html": [
       "<div>\n",
       "<style scoped>\n",
       "    .dataframe tbody tr th:only-of-type {\n",
       "        vertical-align: middle;\n",
       "    }\n",
       "\n",
       "    .dataframe tbody tr th {\n",
       "        vertical-align: top;\n",
       "    }\n",
       "\n",
       "    .dataframe thead th {\n",
       "        text-align: right;\n",
       "    }\n",
       "</style>\n",
       "<table border=\"1\" class=\"dataframe\">\n",
       "  <thead>\n",
       "    <tr style=\"text-align: right;\">\n",
       "      <th></th>\n",
       "      <th>date</th>\n",
       "      <th>serial_number</th>\n",
       "      <th>model</th>\n",
       "      <th>capacity_bytes</th>\n",
       "      <th>failure</th>\n",
       "      <th>smart_1_normalized</th>\n",
       "      <th>smart_1_raw</th>\n",
       "      <th>smart_2_normalized</th>\n",
       "      <th>smart_2_raw</th>\n",
       "      <th>smart_3_normalized</th>\n",
       "      <th>...</th>\n",
       "      <th>smart_250_normalized</th>\n",
       "      <th>smart_250_raw</th>\n",
       "      <th>smart_251_normalized</th>\n",
       "      <th>smart_251_raw</th>\n",
       "      <th>smart_252_normalized</th>\n",
       "      <th>smart_252_raw</th>\n",
       "      <th>smart_254_normalized</th>\n",
       "      <th>smart_254_raw</th>\n",
       "      <th>smart_255_normalized</th>\n",
       "      <th>smart_255_raw</th>\n",
       "    </tr>\n",
       "  </thead>\n",
       "  <tbody>\n",
       "    <tr>\n",
       "      <th>count</th>\n",
       "      <td>106918</td>\n",
       "      <td>106918</td>\n",
       "      <td>106918</td>\n",
       "      <td>1.069180e+05</td>\n",
       "      <td>106918.000000</td>\n",
       "      <td>106918.000000</td>\n",
       "      <td>1.069180e+05</td>\n",
       "      <td>24567.000000</td>\n",
       "      <td>24567.000000</td>\n",
       "      <td>106904.000000</td>\n",
       "      <td>...</td>\n",
       "      <td>1.0</td>\n",
       "      <td>1.0</td>\n",
       "      <td>1.0</td>\n",
       "      <td>1.0</td>\n",
       "      <td>1.0</td>\n",
       "      <td>1.0</td>\n",
       "      <td>123.000000</td>\n",
       "      <td>123.0</td>\n",
       "      <td>0.0</td>\n",
       "      <td>0.0</td>\n",
       "    </tr>\n",
       "    <tr>\n",
       "      <th>unique</th>\n",
       "      <td>1</td>\n",
       "      <td>106918</td>\n",
       "      <td>46</td>\n",
       "      <td>NaN</td>\n",
       "      <td>NaN</td>\n",
       "      <td>NaN</td>\n",
       "      <td>NaN</td>\n",
       "      <td>NaN</td>\n",
       "      <td>NaN</td>\n",
       "      <td>NaN</td>\n",
       "      <td>...</td>\n",
       "      <td>NaN</td>\n",
       "      <td>NaN</td>\n",
       "      <td>NaN</td>\n",
       "      <td>NaN</td>\n",
       "      <td>NaN</td>\n",
       "      <td>NaN</td>\n",
       "      <td>NaN</td>\n",
       "      <td>NaN</td>\n",
       "      <td>NaN</td>\n",
       "      <td>NaN</td>\n",
       "    </tr>\n",
       "    <tr>\n",
       "      <th>top</th>\n",
       "      <td>2019-01-01</td>\n",
       "      <td>ZCH06WSW</td>\n",
       "      <td>ST12000NM0007</td>\n",
       "      <td>NaN</td>\n",
       "      <td>NaN</td>\n",
       "      <td>NaN</td>\n",
       "      <td>NaN</td>\n",
       "      <td>NaN</td>\n",
       "      <td>NaN</td>\n",
       "      <td>NaN</td>\n",
       "      <td>...</td>\n",
       "      <td>NaN</td>\n",
       "      <td>NaN</td>\n",
       "      <td>NaN</td>\n",
       "      <td>NaN</td>\n",
       "      <td>NaN</td>\n",
       "      <td>NaN</td>\n",
       "      <td>NaN</td>\n",
       "      <td>NaN</td>\n",
       "      <td>NaN</td>\n",
       "      <td>NaN</td>\n",
       "    </tr>\n",
       "    <tr>\n",
       "      <th>freq</th>\n",
       "      <td>106918</td>\n",
       "      <td>1</td>\n",
       "      <td>31147</td>\n",
       "      <td>NaN</td>\n",
       "      <td>NaN</td>\n",
       "      <td>NaN</td>\n",
       "      <td>NaN</td>\n",
       "      <td>NaN</td>\n",
       "      <td>NaN</td>\n",
       "      <td>NaN</td>\n",
       "      <td>...</td>\n",
       "      <td>NaN</td>\n",
       "      <td>NaN</td>\n",
       "      <td>NaN</td>\n",
       "      <td>NaN</td>\n",
       "      <td>NaN</td>\n",
       "      <td>NaN</td>\n",
       "      <td>NaN</td>\n",
       "      <td>NaN</td>\n",
       "      <td>NaN</td>\n",
       "      <td>NaN</td>\n",
       "    </tr>\n",
       "    <tr>\n",
       "      <th>mean</th>\n",
       "      <td>NaN</td>\n",
       "      <td>NaN</td>\n",
       "      <td>NaN</td>\n",
       "      <td>7.528120e+12</td>\n",
       "      <td>0.000037</td>\n",
       "      <td>93.606156</td>\n",
       "      <td>9.375430e+07</td>\n",
       "      <td>131.929947</td>\n",
       "      <td>85.590345</td>\n",
       "      <td>97.853990</td>\n",
       "      <td>...</td>\n",
       "      <td>1.0</td>\n",
       "      <td>17093441.0</td>\n",
       "      <td>1.0</td>\n",
       "      <td>90374.0</td>\n",
       "      <td>100.0</td>\n",
       "      <td>0.0</td>\n",
       "      <td>108.943089</td>\n",
       "      <td>0.0</td>\n",
       "      <td>NaN</td>\n",
       "      <td>NaN</td>\n",
       "    </tr>\n",
       "    <tr>\n",
       "      <th>std</th>\n",
       "      <td>NaN</td>\n",
       "      <td>NaN</td>\n",
       "      <td>NaN</td>\n",
       "      <td>3.549111e+12</td>\n",
       "      <td>0.006116</td>\n",
       "      <td>17.573549</td>\n",
       "      <td>8.065777e+07</td>\n",
       "      <td>22.388321</td>\n",
       "      <td>38.735434</td>\n",
       "      <td>11.512462</td>\n",
       "      <td>...</td>\n",
       "      <td>NaN</td>\n",
       "      <td>NaN</td>\n",
       "      <td>NaN</td>\n",
       "      <td>NaN</td>\n",
       "      <td>NaN</td>\n",
       "      <td>NaN</td>\n",
       "      <td>28.653184</td>\n",
       "      <td>0.0</td>\n",
       "      <td>NaN</td>\n",
       "      <td>NaN</td>\n",
       "    </tr>\n",
       "    <tr>\n",
       "      <th>min</th>\n",
       "      <td>NaN</td>\n",
       "      <td>NaN</td>\n",
       "      <td>NaN</td>\n",
       "      <td>1.600419e+11</td>\n",
       "      <td>0.000000</td>\n",
       "      <td>54.000000</td>\n",
       "      <td>0.000000e+00</td>\n",
       "      <td>86.000000</td>\n",
       "      <td>0.000000</td>\n",
       "      <td>79.000000</td>\n",
       "      <td>...</td>\n",
       "      <td>1.0</td>\n",
       "      <td>17093441.0</td>\n",
       "      <td>1.0</td>\n",
       "      <td>90374.0</td>\n",
       "      <td>100.0</td>\n",
       "      <td>0.0</td>\n",
       "      <td>100.000000</td>\n",
       "      <td>0.0</td>\n",
       "      <td>NaN</td>\n",
       "      <td>NaN</td>\n",
       "    </tr>\n",
       "    <tr>\n",
       "      <th>25%</th>\n",
       "      <td>NaN</td>\n",
       "      <td>NaN</td>\n",
       "      <td>NaN</td>\n",
       "      <td>4.000787e+12</td>\n",
       "      <td>0.000000</td>\n",
       "      <td>81.000000</td>\n",
       "      <td>4.046544e+06</td>\n",
       "      <td>133.000000</td>\n",
       "      <td>99.000000</td>\n",
       "      <td>93.000000</td>\n",
       "      <td>...</td>\n",
       "      <td>1.0</td>\n",
       "      <td>17093441.0</td>\n",
       "      <td>1.0</td>\n",
       "      <td>90374.0</td>\n",
       "      <td>100.0</td>\n",
       "      <td>0.0</td>\n",
       "      <td>100.000000</td>\n",
       "      <td>0.0</td>\n",
       "      <td>NaN</td>\n",
       "      <td>NaN</td>\n",
       "    </tr>\n",
       "    <tr>\n",
       "      <th>50%</th>\n",
       "      <td>NaN</td>\n",
       "      <td>NaN</td>\n",
       "      <td>NaN</td>\n",
       "      <td>8.001563e+12</td>\n",
       "      <td>0.000000</td>\n",
       "      <td>84.000000</td>\n",
       "      <td>8.539420e+07</td>\n",
       "      <td>134.000000</td>\n",
       "      <td>101.000000</td>\n",
       "      <td>96.000000</td>\n",
       "      <td>...</td>\n",
       "      <td>1.0</td>\n",
       "      <td>17093441.0</td>\n",
       "      <td>1.0</td>\n",
       "      <td>90374.0</td>\n",
       "      <td>100.0</td>\n",
       "      <td>0.0</td>\n",
       "      <td>100.000000</td>\n",
       "      <td>0.0</td>\n",
       "      <td>NaN</td>\n",
       "      <td>NaN</td>\n",
       "    </tr>\n",
       "    <tr>\n",
       "      <th>75%</th>\n",
       "      <td>NaN</td>\n",
       "      <td>NaN</td>\n",
       "      <td>NaN</td>\n",
       "      <td>1.200014e+13</td>\n",
       "      <td>0.000000</td>\n",
       "      <td>100.000000</td>\n",
       "      <td>1.665111e+08</td>\n",
       "      <td>134.000000</td>\n",
       "      <td>104.000000</td>\n",
       "      <td>99.000000</td>\n",
       "      <td>...</td>\n",
       "      <td>1.0</td>\n",
       "      <td>17093441.0</td>\n",
       "      <td>1.0</td>\n",
       "      <td>90374.0</td>\n",
       "      <td>100.0</td>\n",
       "      <td>0.0</td>\n",
       "      <td>100.000000</td>\n",
       "      <td>0.0</td>\n",
       "      <td>NaN</td>\n",
       "      <td>NaN</td>\n",
       "    </tr>\n",
       "    <tr>\n",
       "      <th>max</th>\n",
       "      <td>NaN</td>\n",
       "      <td>NaN</td>\n",
       "      <td>NaN</td>\n",
       "      <td>1.400052e+13</td>\n",
       "      <td>1.000000</td>\n",
       "      <td>200.000000</td>\n",
       "      <td>2.441371e+08</td>\n",
       "      <td>252.000000</td>\n",
       "      <td>1061.000000</td>\n",
       "      <td>253.000000</td>\n",
       "      <td>...</td>\n",
       "      <td>1.0</td>\n",
       "      <td>17093441.0</td>\n",
       "      <td>1.0</td>\n",
       "      <td>90374.0</td>\n",
       "      <td>100.0</td>\n",
       "      <td>0.0</td>\n",
       "      <td>200.000000</td>\n",
       "      <td>0.0</td>\n",
       "      <td>NaN</td>\n",
       "      <td>NaN</td>\n",
       "    </tr>\n",
       "  </tbody>\n",
       "</table>\n",
       "<p>11 rows × 129 columns</p>\n",
       "</div>"
      ],
      "text/plain": [
       "              date serial_number          model  capacity_bytes  \\\n",
       "count       106918        106918         106918    1.069180e+05   \n",
       "unique           1        106918             46             NaN   \n",
       "top     2019-01-01      ZCH06WSW  ST12000NM0007             NaN   \n",
       "freq        106918             1          31147             NaN   \n",
       "mean           NaN           NaN            NaN    7.528120e+12   \n",
       "std            NaN           NaN            NaN    3.549111e+12   \n",
       "min            NaN           NaN            NaN    1.600419e+11   \n",
       "25%            NaN           NaN            NaN    4.000787e+12   \n",
       "50%            NaN           NaN            NaN    8.001563e+12   \n",
       "75%            NaN           NaN            NaN    1.200014e+13   \n",
       "max            NaN           NaN            NaN    1.400052e+13   \n",
       "\n",
       "              failure  smart_1_normalized   smart_1_raw  smart_2_normalized  \\\n",
       "count   106918.000000       106918.000000  1.069180e+05        24567.000000   \n",
       "unique            NaN                 NaN           NaN                 NaN   \n",
       "top               NaN                 NaN           NaN                 NaN   \n",
       "freq              NaN                 NaN           NaN                 NaN   \n",
       "mean         0.000037           93.606156  9.375430e+07          131.929947   \n",
       "std          0.006116           17.573549  8.065777e+07           22.388321   \n",
       "min          0.000000           54.000000  0.000000e+00           86.000000   \n",
       "25%          0.000000           81.000000  4.046544e+06          133.000000   \n",
       "50%          0.000000           84.000000  8.539420e+07          134.000000   \n",
       "75%          0.000000          100.000000  1.665111e+08          134.000000   \n",
       "max          1.000000          200.000000  2.441371e+08          252.000000   \n",
       "\n",
       "         smart_2_raw  smart_3_normalized      ...        smart_250_normalized  \\\n",
       "count   24567.000000       106904.000000      ...                         1.0   \n",
       "unique           NaN                 NaN      ...                         NaN   \n",
       "top              NaN                 NaN      ...                         NaN   \n",
       "freq             NaN                 NaN      ...                         NaN   \n",
       "mean       85.590345           97.853990      ...                         1.0   \n",
       "std        38.735434           11.512462      ...                         NaN   \n",
       "min         0.000000           79.000000      ...                         1.0   \n",
       "25%        99.000000           93.000000      ...                         1.0   \n",
       "50%       101.000000           96.000000      ...                         1.0   \n",
       "75%       104.000000           99.000000      ...                         1.0   \n",
       "max      1061.000000          253.000000      ...                         1.0   \n",
       "\n",
       "        smart_250_raw  smart_251_normalized  smart_251_raw  \\\n",
       "count             1.0                   1.0            1.0   \n",
       "unique            NaN                   NaN            NaN   \n",
       "top               NaN                   NaN            NaN   \n",
       "freq              NaN                   NaN            NaN   \n",
       "mean       17093441.0                   1.0        90374.0   \n",
       "std               NaN                   NaN            NaN   \n",
       "min        17093441.0                   1.0        90374.0   \n",
       "25%        17093441.0                   1.0        90374.0   \n",
       "50%        17093441.0                   1.0        90374.0   \n",
       "75%        17093441.0                   1.0        90374.0   \n",
       "max        17093441.0                   1.0        90374.0   \n",
       "\n",
       "        smart_252_normalized  smart_252_raw  smart_254_normalized  \\\n",
       "count                    1.0            1.0            123.000000   \n",
       "unique                   NaN            NaN                   NaN   \n",
       "top                      NaN            NaN                   NaN   \n",
       "freq                     NaN            NaN                   NaN   \n",
       "mean                   100.0            0.0            108.943089   \n",
       "std                      NaN            NaN             28.653184   \n",
       "min                    100.0            0.0            100.000000   \n",
       "25%                    100.0            0.0            100.000000   \n",
       "50%                    100.0            0.0            100.000000   \n",
       "75%                    100.0            0.0            100.000000   \n",
       "max                    100.0            0.0            200.000000   \n",
       "\n",
       "        smart_254_raw  smart_255_normalized  smart_255_raw  \n",
       "count           123.0                   0.0            0.0  \n",
       "unique            NaN                   NaN            NaN  \n",
       "top               NaN                   NaN            NaN  \n",
       "freq              NaN                   NaN            NaN  \n",
       "mean              0.0                   NaN            NaN  \n",
       "std               0.0                   NaN            NaN  \n",
       "min               0.0                   NaN            NaN  \n",
       "25%               0.0                   NaN            NaN  \n",
       "50%               0.0                   NaN            NaN  \n",
       "75%               0.0                   NaN            NaN  \n",
       "max               0.0                   NaN            NaN  \n",
       "\n",
       "[11 rows x 129 columns]"
      ]
     },
     "execution_count": 5,
     "metadata": {},
     "output_type": "execute_result"
    }
   ],
   "source": [
    "# Apercu des données descriptives \n",
    "data.describe(include='all')"
   ]
  },
  {
   "cell_type": "markdown",
   "metadata": {},
   "source": [
    "On voit que le fichier extrait comporte 106918 enregistrements. Il s'agit un enregistrement de la même date. La ligne count indique les valeurs uniques et le fait que certaines colonnes indique 0 est caractéristique d'une colonne vide, de ce fait à supprimer. Dans un premier temps nous allons remplacer les valeurs manquantes par des 0 sur les colonnes quantitatives afin de ne pas biaiser l'analyse plus tard."
   ]
  },
  {
   "cell_type": "code",
   "execution_count": 6,
   "metadata": {},
   "outputs": [
    {
     "data": {
      "text/plain": [
       "46"
      ]
     },
     "execution_count": 6,
     "metadata": {},
     "output_type": "execute_result"
    }
   ],
   "source": [
    "# Nombre de modèles pris en compte\n",
    "data.model.unique().shape[0]"
   ]
  },
  {
   "cell_type": "markdown",
   "metadata": {},
   "source": [
    "Cette analyse se porte sur 46 modèles de disues durs différents."
   ]
  },
  {
   "cell_type": "markdown",
   "metadata": {},
   "source": [
    "### 3 - Connaissance des données :\n",
    "Après l'importation des données, il est nécessaire de préparer les données afin de faciliter son analyse."
   ]
  },
  {
   "cell_type": "code",
   "execution_count": 6,
   "metadata": {},
   "outputs": [],
   "source": [
    "# On remplace les valeurs manquantes par des 0\n",
    "data = data.fillna(0)"
   ]
  },
  {
   "cell_type": "code",
   "execution_count": 7,
   "metadata": {},
   "outputs": [],
   "source": [
    "data = data.drop(data.columns[0], axis=1)"
   ]
  },
  {
   "cell_type": "code",
   "execution_count": 6,
   "metadata": {},
   "outputs": [],
   "source": [
    "# On efface les colonnes inutiles \n",
    "for i in data.columns :\n",
    "    if data[i].unique().shape[0] < 2 :\n",
    "        data = data.drop(columns=i)"
   ]
  },
  {
   "cell_type": "markdown",
   "metadata": {},
   "source": [
    " On constate qu'on a près d'une centaine de colonnes qui étaient vides."
   ]
  },
  {
   "cell_type": "code",
   "execution_count": 7,
   "metadata": {},
   "outputs": [
    {
     "data": {
      "text/html": [
       "<div>\n",
       "<style scoped>\n",
       "    .dataframe tbody tr th:only-of-type {\n",
       "        vertical-align: middle;\n",
       "    }\n",
       "\n",
       "    .dataframe tbody tr th {\n",
       "        vertical-align: top;\n",
       "    }\n",
       "\n",
       "    .dataframe thead th {\n",
       "        text-align: right;\n",
       "    }\n",
       "</style>\n",
       "<table border=\"1\" class=\"dataframe\">\n",
       "  <thead>\n",
       "    <tr style=\"text-align: right;\">\n",
       "      <th></th>\n",
       "      <th>capacity_bytes</th>\n",
       "      <th>failure</th>\n",
       "      <th>smart_1_normalized</th>\n",
       "      <th>smart_1_raw</th>\n",
       "      <th>smart_2_normalized</th>\n",
       "      <th>smart_2_raw</th>\n",
       "      <th>smart_3_normalized</th>\n",
       "      <th>smart_3_raw</th>\n",
       "      <th>smart_4_normalized</th>\n",
       "      <th>smart_4_raw</th>\n",
       "      <th>...</th>\n",
       "      <th>smart_242_normalized</th>\n",
       "      <th>smart_242_raw</th>\n",
       "      <th>smart_250_normalized</th>\n",
       "      <th>smart_250_raw</th>\n",
       "      <th>smart_251_normalized</th>\n",
       "      <th>smart_251_raw</th>\n",
       "      <th>smart_252_normalized</th>\n",
       "      <th>smart_252_raw</th>\n",
       "      <th>smart_254_normalized</th>\n",
       "      <th>smart_254_raw</th>\n",
       "    </tr>\n",
       "  </thead>\n",
       "  <tbody>\n",
       "    <tr>\n",
       "      <th>count</th>\n",
       "      <td>1.069180e+05</td>\n",
       "      <td>106918.000000</td>\n",
       "      <td>106918.000000</td>\n",
       "      <td>1.069180e+05</td>\n",
       "      <td>24567.000000</td>\n",
       "      <td>24567.000000</td>\n",
       "      <td>106904.000000</td>\n",
       "      <td>106904.00000</td>\n",
       "      <td>106904.000000</td>\n",
       "      <td>106904.000000</td>\n",
       "      <td>...</td>\n",
       "      <td>81617.000000</td>\n",
       "      <td>8.161700e+04</td>\n",
       "      <td>1.0</td>\n",
       "      <td>1.0</td>\n",
       "      <td>1.0</td>\n",
       "      <td>1.0</td>\n",
       "      <td>1.0</td>\n",
       "      <td>1.0</td>\n",
       "      <td>123.000000</td>\n",
       "      <td>123.0</td>\n",
       "    </tr>\n",
       "    <tr>\n",
       "      <th>mean</th>\n",
       "      <td>7.528120e+12</td>\n",
       "      <td>0.000037</td>\n",
       "      <td>93.606156</td>\n",
       "      <td>9.375430e+07</td>\n",
       "      <td>131.929947</td>\n",
       "      <td>85.590345</td>\n",
       "      <td>97.853990</td>\n",
       "      <td>223.38616</td>\n",
       "      <td>99.998372</td>\n",
       "      <td>8.440058</td>\n",
       "      <td>...</td>\n",
       "      <td>100.013478</td>\n",
       "      <td>9.600834e+10</td>\n",
       "      <td>1.0</td>\n",
       "      <td>17093441.0</td>\n",
       "      <td>1.0</td>\n",
       "      <td>90374.0</td>\n",
       "      <td>100.0</td>\n",
       "      <td>0.0</td>\n",
       "      <td>108.943089</td>\n",
       "      <td>0.0</td>\n",
       "    </tr>\n",
       "    <tr>\n",
       "      <th>std</th>\n",
       "      <td>3.549111e+12</td>\n",
       "      <td>0.006116</td>\n",
       "      <td>17.573549</td>\n",
       "      <td>8.065777e+07</td>\n",
       "      <td>22.388321</td>\n",
       "      <td>38.735434</td>\n",
       "      <td>11.512462</td>\n",
       "      <td>1035.28342</td>\n",
       "      <td>0.122328</td>\n",
       "      <td>129.344753</td>\n",
       "      <td>...</td>\n",
       "      <td>1.160859</td>\n",
       "      <td>2.416933e+11</td>\n",
       "      <td>NaN</td>\n",
       "      <td>NaN</td>\n",
       "      <td>NaN</td>\n",
       "      <td>NaN</td>\n",
       "      <td>NaN</td>\n",
       "      <td>NaN</td>\n",
       "      <td>28.653184</td>\n",
       "      <td>0.0</td>\n",
       "    </tr>\n",
       "    <tr>\n",
       "      <th>min</th>\n",
       "      <td>1.600419e+11</td>\n",
       "      <td>0.000000</td>\n",
       "      <td>54.000000</td>\n",
       "      <td>0.000000e+00</td>\n",
       "      <td>86.000000</td>\n",
       "      <td>0.000000</td>\n",
       "      <td>79.000000</td>\n",
       "      <td>0.00000</td>\n",
       "      <td>75.000000</td>\n",
       "      <td>1.000000</td>\n",
       "      <td>...</td>\n",
       "      <td>100.000000</td>\n",
       "      <td>9.800000e+01</td>\n",
       "      <td>1.0</td>\n",
       "      <td>17093441.0</td>\n",
       "      <td>1.0</td>\n",
       "      <td>90374.0</td>\n",
       "      <td>100.0</td>\n",
       "      <td>0.0</td>\n",
       "      <td>100.000000</td>\n",
       "      <td>0.0</td>\n",
       "    </tr>\n",
       "    <tr>\n",
       "      <th>25%</th>\n",
       "      <td>4.000787e+12</td>\n",
       "      <td>0.000000</td>\n",
       "      <td>81.000000</td>\n",
       "      <td>4.046544e+06</td>\n",
       "      <td>133.000000</td>\n",
       "      <td>99.000000</td>\n",
       "      <td>93.000000</td>\n",
       "      <td>0.00000</td>\n",
       "      <td>100.000000</td>\n",
       "      <td>3.000000</td>\n",
       "      <td>...</td>\n",
       "      <td>100.000000</td>\n",
       "      <td>7.378875e+10</td>\n",
       "      <td>1.0</td>\n",
       "      <td>17093441.0</td>\n",
       "      <td>1.0</td>\n",
       "      <td>90374.0</td>\n",
       "      <td>100.0</td>\n",
       "      <td>0.0</td>\n",
       "      <td>100.000000</td>\n",
       "      <td>0.0</td>\n",
       "    </tr>\n",
       "    <tr>\n",
       "      <th>50%</th>\n",
       "      <td>8.001563e+12</td>\n",
       "      <td>0.000000</td>\n",
       "      <td>84.000000</td>\n",
       "      <td>8.539420e+07</td>\n",
       "      <td>134.000000</td>\n",
       "      <td>101.000000</td>\n",
       "      <td>96.000000</td>\n",
       "      <td>0.00000</td>\n",
       "      <td>100.000000</td>\n",
       "      <td>5.000000</td>\n",
       "      <td>...</td>\n",
       "      <td>100.000000</td>\n",
       "      <td>9.649651e+10</td>\n",
       "      <td>1.0</td>\n",
       "      <td>17093441.0</td>\n",
       "      <td>1.0</td>\n",
       "      <td>90374.0</td>\n",
       "      <td>100.0</td>\n",
       "      <td>0.0</td>\n",
       "      <td>100.000000</td>\n",
       "      <td>0.0</td>\n",
       "    </tr>\n",
       "    <tr>\n",
       "      <th>75%</th>\n",
       "      <td>1.200014e+13</td>\n",
       "      <td>0.000000</td>\n",
       "      <td>100.000000</td>\n",
       "      <td>1.665111e+08</td>\n",
       "      <td>134.000000</td>\n",
       "      <td>104.000000</td>\n",
       "      <td>99.000000</td>\n",
       "      <td>0.00000</td>\n",
       "      <td>100.000000</td>\n",
       "      <td>8.000000</td>\n",
       "      <td>...</td>\n",
       "      <td>100.000000</td>\n",
       "      <td>1.179494e+11</td>\n",
       "      <td>1.0</td>\n",
       "      <td>17093441.0</td>\n",
       "      <td>1.0</td>\n",
       "      <td>90374.0</td>\n",
       "      <td>100.0</td>\n",
       "      <td>0.0</td>\n",
       "      <td>100.000000</td>\n",
       "      <td>0.0</td>\n",
       "    </tr>\n",
       "    <tr>\n",
       "      <th>max</th>\n",
       "      <td>1.400052e+13</td>\n",
       "      <td>1.000000</td>\n",
       "      <td>200.000000</td>\n",
       "      <td>2.441371e+08</td>\n",
       "      <td>252.000000</td>\n",
       "      <td>1061.000000</td>\n",
       "      <td>253.000000</td>\n",
       "      <td>11042.00000</td>\n",
       "      <td>100.000000</td>\n",
       "      <td>25118.000000</td>\n",
       "      <td>...</td>\n",
       "      <td>200.000000</td>\n",
       "      <td>3.237736e+13</td>\n",
       "      <td>1.0</td>\n",
       "      <td>17093441.0</td>\n",
       "      <td>1.0</td>\n",
       "      <td>90374.0</td>\n",
       "      <td>100.0</td>\n",
       "      <td>0.0</td>\n",
       "      <td>200.000000</td>\n",
       "      <td>0.0</td>\n",
       "    </tr>\n",
       "  </tbody>\n",
       "</table>\n",
       "<p>8 rows × 112 columns</p>\n",
       "</div>"
      ],
      "text/plain": [
       "       capacity_bytes        failure  smart_1_normalized   smart_1_raw  \\\n",
       "count    1.069180e+05  106918.000000       106918.000000  1.069180e+05   \n",
       "mean     7.528120e+12       0.000037           93.606156  9.375430e+07   \n",
       "std      3.549111e+12       0.006116           17.573549  8.065777e+07   \n",
       "min      1.600419e+11       0.000000           54.000000  0.000000e+00   \n",
       "25%      4.000787e+12       0.000000           81.000000  4.046544e+06   \n",
       "50%      8.001563e+12       0.000000           84.000000  8.539420e+07   \n",
       "75%      1.200014e+13       0.000000          100.000000  1.665111e+08   \n",
       "max      1.400052e+13       1.000000          200.000000  2.441371e+08   \n",
       "\n",
       "       smart_2_normalized   smart_2_raw  smart_3_normalized   smart_3_raw  \\\n",
       "count        24567.000000  24567.000000       106904.000000  106904.00000   \n",
       "mean           131.929947     85.590345           97.853990     223.38616   \n",
       "std             22.388321     38.735434           11.512462    1035.28342   \n",
       "min             86.000000      0.000000           79.000000       0.00000   \n",
       "25%            133.000000     99.000000           93.000000       0.00000   \n",
       "50%            134.000000    101.000000           96.000000       0.00000   \n",
       "75%            134.000000    104.000000           99.000000       0.00000   \n",
       "max            252.000000   1061.000000          253.000000   11042.00000   \n",
       "\n",
       "       smart_4_normalized    smart_4_raw      ...        smart_242_normalized  \\\n",
       "count       106904.000000  106904.000000      ...                81617.000000   \n",
       "mean            99.998372       8.440058      ...                  100.013478   \n",
       "std              0.122328     129.344753      ...                    1.160859   \n",
       "min             75.000000       1.000000      ...                  100.000000   \n",
       "25%            100.000000       3.000000      ...                  100.000000   \n",
       "50%            100.000000       5.000000      ...                  100.000000   \n",
       "75%            100.000000       8.000000      ...                  100.000000   \n",
       "max            100.000000   25118.000000      ...                  200.000000   \n",
       "\n",
       "       smart_242_raw  smart_250_normalized  smart_250_raw  \\\n",
       "count   8.161700e+04                   1.0            1.0   \n",
       "mean    9.600834e+10                   1.0     17093441.0   \n",
       "std     2.416933e+11                   NaN            NaN   \n",
       "min     9.800000e+01                   1.0     17093441.0   \n",
       "25%     7.378875e+10                   1.0     17093441.0   \n",
       "50%     9.649651e+10                   1.0     17093441.0   \n",
       "75%     1.179494e+11                   1.0     17093441.0   \n",
       "max     3.237736e+13                   1.0     17093441.0   \n",
       "\n",
       "       smart_251_normalized  smart_251_raw  smart_252_normalized  \\\n",
       "count                   1.0            1.0                   1.0   \n",
       "mean                    1.0        90374.0                 100.0   \n",
       "std                     NaN            NaN                   NaN   \n",
       "min                     1.0        90374.0                 100.0   \n",
       "25%                     1.0        90374.0                 100.0   \n",
       "50%                     1.0        90374.0                 100.0   \n",
       "75%                     1.0        90374.0                 100.0   \n",
       "max                     1.0        90374.0                 100.0   \n",
       "\n",
       "       smart_252_raw  smart_254_normalized  smart_254_raw  \n",
       "count            1.0            123.000000          123.0  \n",
       "mean             0.0            108.943089            0.0  \n",
       "std              NaN             28.653184            0.0  \n",
       "min              0.0            100.000000            0.0  \n",
       "25%              0.0            100.000000            0.0  \n",
       "50%              0.0            100.000000            0.0  \n",
       "75%              0.0            100.000000            0.0  \n",
       "max              0.0            200.000000            0.0  \n",
       "\n",
       "[8 rows x 112 columns]"
      ]
     },
     "execution_count": 7,
     "metadata": {},
     "output_type": "execute_result"
    }
   ],
   "source": [
    "data.describe()"
   ]
  },
  {
   "cell_type": "code",
   "execution_count": null,
   "metadata": {},
   "outputs": [
    {
     "data": {
      "text/plain": [
       "<matplotlib.axes._subplots.AxesSubplot at 0x19e9673eeb8>"
      ]
     },
     "execution_count": 19,
     "metadata": {},
     "output_type": "execute_result"
    }
   ],
   "source": [
    "x = data.sort_values(by='model')\n",
    "x.plot.bar('model','capacity_bytes')"
   ]
  },
  {
   "cell_type": "code",
   "execution_count": 7,
   "metadata": {},
   "outputs": [
    {
     "name": "stdout",
     "output_type": "stream",
     "text": [
      "4.001 Teraoctets : 42763 échantillons\n",
      "12.0 Teraoctets : 32425 échantillons\n",
      "8.002 Teraoctets : 25351 échantillons\n",
      "14.001 Teraoctets : 1204 échantillons\n",
      "6.001 Teraoctets : 1931 échantillons\n",
      "0.5 Teraoctets : 1949 échantillons\n",
      "10.001 Teraoctets : 1220 échantillons\n",
      "0.16 Teraoctets : 23 échantillons\n",
      "5.001 Teraoctets : 45 échantillons\n",
      "0.25 Teraoctets : 2 échantillons\n",
      "0.32 Teraoctets : 3 échantillons\n",
      "1.0 Teraoctets : 1 échantillons\n",
      "2.0 Teraoctets : 1 échantillons\n"
     ]
    }
   ],
   "source": [
    "# Volumes de données des différents disques durs\n",
    "for i in data.capacity_bytes.unique() :\n",
    "    l = data[data.capacity_bytes == i].shape[0]\n",
    "    print('{} Teraoctets : {} échantillons'.format(round(i/1000000000000,3),l))"
   ]
  },
  {
   "cell_type": "markdown",
   "metadata": {},
   "source": [
    "La tailles des disques va des disques de 250 Go aux disques de 14 teras. Mais on retrouve plus des disques durs de 4, 8 et 12 téras.\n",
    "\n",
    "\n",
    "On extrait des données pour un modèle de disque en particulier. "
   ]
  },
  {
   "cell_type": "code",
   "execution_count": 8,
   "metadata": {},
   "outputs": [],
   "source": [
    "st4 = data[data['model'] == 'ST4000DM000']"
   ]
  },
  {
   "cell_type": "code",
   "execution_count": 9,
   "metadata": {},
   "outputs": [
    {
     "data": {
      "text/plain": [
       "23236"
      ]
     },
     "execution_count": 9,
     "metadata": {},
     "output_type": "execute_result"
    }
   ],
   "source": [
    "st4.serial_number.unique().shape[0]"
   ]
  },
  {
   "cell_type": "markdown",
   "metadata": {},
   "source": [
    "Pour ce modèle nous avons plus de 23 000 produits pris en compte. Cela marque l'étendu des echantillons considérés."
   ]
  },
  {
   "cell_type": "code",
   "execution_count": 10,
   "metadata": {},
   "outputs": [
    {
     "data": {
      "text/html": [
       "<div>\n",
       "<style scoped>\n",
       "    .dataframe tbody tr th:only-of-type {\n",
       "        vertical-align: middle;\n",
       "    }\n",
       "\n",
       "    .dataframe tbody tr th {\n",
       "        vertical-align: top;\n",
       "    }\n",
       "\n",
       "    .dataframe thead th {\n",
       "        text-align: right;\n",
       "    }\n",
       "</style>\n",
       "<table border=\"1\" class=\"dataframe\">\n",
       "  <thead>\n",
       "    <tr style=\"text-align: right;\">\n",
       "      <th></th>\n",
       "      <th>smart_1_normalized</th>\n",
       "      <th>smart_1_raw</th>\n",
       "    </tr>\n",
       "  </thead>\n",
       "  <tbody>\n",
       "    <tr>\n",
       "      <th>smart_1_normalized</th>\n",
       "      <td>1.00000</td>\n",
       "      <td>0.86452</td>\n",
       "    </tr>\n",
       "    <tr>\n",
       "      <th>smart_1_raw</th>\n",
       "      <td>0.86452</td>\n",
       "      <td>1.00000</td>\n",
       "    </tr>\n",
       "  </tbody>\n",
       "</table>\n",
       "</div>"
      ],
      "text/plain": [
       "                    smart_1_normalized  smart_1_raw\n",
       "smart_1_normalized             1.00000      0.86452\n",
       "smart_1_raw                    0.86452      1.00000"
      ]
     },
     "execution_count": 10,
     "metadata": {},
     "output_type": "execute_result"
    }
   ],
   "source": [
    "st4[['smart_1_normalized','smart_1_raw']].corr(method='pearson')"
   ]
  },
  {
   "cell_type": "markdown",
   "metadata": {},
   "source": [
    "Des données ressortent une grosse correlation entre les données normalisées et les données brutes. Ce qui n'est que normal."
   ]
  },
  {
   "cell_type": "code",
   "execution_count": 15,
   "metadata": {},
   "outputs": [
    {
     "data": {
      "text/html": [
       "<div>\n",
       "<style scoped>\n",
       "    .dataframe tbody tr th:only-of-type {\n",
       "        vertical-align: middle;\n",
       "    }\n",
       "\n",
       "    .dataframe tbody tr th {\n",
       "        vertical-align: top;\n",
       "    }\n",
       "\n",
       "    .dataframe thead th {\n",
       "        text-align: right;\n",
       "    }\n",
       "</style>\n",
       "<table border=\"1\" class=\"dataframe\">\n",
       "  <thead>\n",
       "    <tr style=\"text-align: right;\">\n",
       "      <th></th>\n",
       "      <th>smart_1_normalized</th>\n",
       "      <th>smart_2_normalized</th>\n",
       "      <th>smart_3_normalized</th>\n",
       "      <th>smart_4_normalized</th>\n",
       "      <th>smart_255_normalized</th>\n",
       "    </tr>\n",
       "  </thead>\n",
       "  <tbody>\n",
       "    <tr>\n",
       "      <th>smart_1_normalized</th>\n",
       "      <td>1.000000</td>\n",
       "      <td>NaN</td>\n",
       "      <td>-0.006019</td>\n",
       "      <td>0.003122</td>\n",
       "      <td>NaN</td>\n",
       "    </tr>\n",
       "    <tr>\n",
       "      <th>smart_2_normalized</th>\n",
       "      <td>NaN</td>\n",
       "      <td>NaN</td>\n",
       "      <td>NaN</td>\n",
       "      <td>NaN</td>\n",
       "      <td>NaN</td>\n",
       "    </tr>\n",
       "    <tr>\n",
       "      <th>smart_3_normalized</th>\n",
       "      <td>-0.006019</td>\n",
       "      <td>NaN</td>\n",
       "      <td>1.000000</td>\n",
       "      <td>0.001684</td>\n",
       "      <td>NaN</td>\n",
       "    </tr>\n",
       "    <tr>\n",
       "      <th>smart_4_normalized</th>\n",
       "      <td>0.003122</td>\n",
       "      <td>NaN</td>\n",
       "      <td>0.001684</td>\n",
       "      <td>1.000000</td>\n",
       "      <td>NaN</td>\n",
       "    </tr>\n",
       "    <tr>\n",
       "      <th>smart_255_normalized</th>\n",
       "      <td>NaN</td>\n",
       "      <td>NaN</td>\n",
       "      <td>NaN</td>\n",
       "      <td>NaN</td>\n",
       "      <td>NaN</td>\n",
       "    </tr>\n",
       "  </tbody>\n",
       "</table>\n",
       "</div>"
      ],
      "text/plain": [
       "                      smart_1_normalized  smart_2_normalized  \\\n",
       "smart_1_normalized              1.000000                 NaN   \n",
       "smart_2_normalized                   NaN                 NaN   \n",
       "smart_3_normalized             -0.006019                 NaN   \n",
       "smart_4_normalized              0.003122                 NaN   \n",
       "smart_255_normalized                 NaN                 NaN   \n",
       "\n",
       "                      smart_3_normalized  smart_4_normalized  \\\n",
       "smart_1_normalized             -0.006019            0.003122   \n",
       "smart_2_normalized                   NaN                 NaN   \n",
       "smart_3_normalized              1.000000            0.001684   \n",
       "smart_4_normalized              0.001684            1.000000   \n",
       "smart_255_normalized                 NaN                 NaN   \n",
       "\n",
       "                      smart_255_normalized  \n",
       "smart_1_normalized                     NaN  \n",
       "smart_2_normalized                     NaN  \n",
       "smart_3_normalized                     NaN  \n",
       "smart_4_normalized                     NaN  \n",
       "smart_255_normalized                   NaN  "
      ]
     },
     "execution_count": 15,
     "metadata": {},
     "output_type": "execute_result"
    }
   ],
   "source": [
    "st4[['smart_1_normalized','smart_2_normalized','smart_3_normalized','smart_4_normalized','smart_255_normalized']].corr(method='pearson')"
   ]
  },
  {
   "cell_type": "code",
   "execution_count": 16,
   "metadata": {},
   "outputs": [
    {
     "data": {
      "text/html": [
       "<div>\n",
       "<style scoped>\n",
       "    .dataframe tbody tr th:only-of-type {\n",
       "        vertical-align: middle;\n",
       "    }\n",
       "\n",
       "    .dataframe tbody tr th {\n",
       "        vertical-align: top;\n",
       "    }\n",
       "\n",
       "    .dataframe thead th {\n",
       "        text-align: right;\n",
       "    }\n",
       "</style>\n",
       "<table border=\"1\" class=\"dataframe\">\n",
       "  <thead>\n",
       "    <tr style=\"text-align: right;\">\n",
       "      <th></th>\n",
       "      <th>smart_1_raw</th>\n",
       "      <th>smart_2_raw</th>\n",
       "      <th>smart_3_raw</th>\n",
       "      <th>smart_4_raw</th>\n",
       "      <th>smart_255_raw</th>\n",
       "    </tr>\n",
       "  </thead>\n",
       "  <tbody>\n",
       "    <tr>\n",
       "      <th>smart_1_raw</th>\n",
       "      <td>1.000000</td>\n",
       "      <td>NaN</td>\n",
       "      <td>NaN</td>\n",
       "      <td>0.001877</td>\n",
       "      <td>NaN</td>\n",
       "    </tr>\n",
       "    <tr>\n",
       "      <th>smart_2_raw</th>\n",
       "      <td>NaN</td>\n",
       "      <td>NaN</td>\n",
       "      <td>NaN</td>\n",
       "      <td>NaN</td>\n",
       "      <td>NaN</td>\n",
       "    </tr>\n",
       "    <tr>\n",
       "      <th>smart_3_raw</th>\n",
       "      <td>NaN</td>\n",
       "      <td>NaN</td>\n",
       "      <td>NaN</td>\n",
       "      <td>NaN</td>\n",
       "      <td>NaN</td>\n",
       "    </tr>\n",
       "    <tr>\n",
       "      <th>smart_4_raw</th>\n",
       "      <td>0.001877</td>\n",
       "      <td>NaN</td>\n",
       "      <td>NaN</td>\n",
       "      <td>1.000000</td>\n",
       "      <td>NaN</td>\n",
       "    </tr>\n",
       "    <tr>\n",
       "      <th>smart_255_raw</th>\n",
       "      <td>NaN</td>\n",
       "      <td>NaN</td>\n",
       "      <td>NaN</td>\n",
       "      <td>NaN</td>\n",
       "      <td>NaN</td>\n",
       "    </tr>\n",
       "  </tbody>\n",
       "</table>\n",
       "</div>"
      ],
      "text/plain": [
       "               smart_1_raw  smart_2_raw  smart_3_raw  smart_4_raw  \\\n",
       "smart_1_raw       1.000000          NaN          NaN     0.001877   \n",
       "smart_2_raw            NaN          NaN          NaN          NaN   \n",
       "smart_3_raw            NaN          NaN          NaN          NaN   \n",
       "smart_4_raw       0.001877          NaN          NaN     1.000000   \n",
       "smart_255_raw          NaN          NaN          NaN          NaN   \n",
       "\n",
       "               smart_255_raw  \n",
       "smart_1_raw              NaN  \n",
       "smart_2_raw              NaN  \n",
       "smart_3_raw              NaN  \n",
       "smart_4_raw              NaN  \n",
       "smart_255_raw            NaN  "
      ]
     },
     "execution_count": 16,
     "metadata": {},
     "output_type": "execute_result"
    }
   ],
   "source": [
    "st4[['smart_1_raw','smart_2_raw','smart_3_raw','smart_4_raw','smart_255_raw']].corr(method='pearson')"
   ]
  },
  {
   "cell_type": "markdown",
   "metadata": {},
   "source": [
    "On ne constate aucune correlation entre les paramètres pris en compte"
   ]
  },
  {
   "cell_type": "markdown",
   "metadata": {},
   "source": [
    "### 4- Analyse de survie : Méthode Kaplan-Meier"
   ]
  },
  {
   "cell_type": "code",
   "execution_count": 2,
   "metadata": {},
   "outputs": [],
   "source": [
    "from lifelines import KaplanMeierFitter"
   ]
  },
  {
   "cell_type": "code",
   "execution_count": 3,
   "metadata": {},
   "outputs": [],
   "source": [
    "# Importation de toutes les données \n",
    "data = pd.read_csv('donne.csv')"
   ]
  },
  {
   "cell_type": "code",
   "execution_count": 5,
   "metadata": {},
   "outputs": [],
   "source": [
    "data = data.drop(data.columns[0], axis=1)\n",
    "data = data.fillna(0)"
   ]
  },
  {
   "cell_type": "code",
   "execution_count": 6,
   "metadata": {},
   "outputs": [],
   "source": [
    "## création d'un objet kaplan-meier\n",
    "kmf = KaplanMeierFitter() "
   ]
  },
  {
   "cell_type": "code",
   "execution_count": 7,
   "metadata": {},
   "outputs": [],
   "source": [
    "from lifelines.utils import datetimes_to_durations"
   ]
  },
  {
   "cell_type": "code",
   "execution_count": 8,
   "metadata": {},
   "outputs": [],
   "source": [
    "# Conversion du champ date en entier\n",
    "data['date'] = pd.to_datetime(data['date'], errors='coerce')"
   ]
  },
  {
   "cell_type": "code",
   "execution_count": 9,
   "metadata": {},
   "outputs": [],
   "source": [
    "data['end'] =  data['date'].max()"
   ]
  },
  {
   "cell_type": "code",
   "execution_count": 10,
   "metadata": {},
   "outputs": [],
   "source": [
    "df = data[['date','end','failure']]"
   ]
  },
  {
   "cell_type": "code",
   "execution_count": 11,
   "metadata": {},
   "outputs": [
    {
     "data": {
      "text/html": [
       "<div>\n",
       "<style scoped>\n",
       "    .dataframe tbody tr th:only-of-type {\n",
       "        vertical-align: middle;\n",
       "    }\n",
       "\n",
       "    .dataframe tbody tr th {\n",
       "        vertical-align: top;\n",
       "    }\n",
       "\n",
       "    .dataframe thead th {\n",
       "        text-align: right;\n",
       "    }\n",
       "</style>\n",
       "<table border=\"1\" class=\"dataframe\">\n",
       "  <thead>\n",
       "    <tr style=\"text-align: right;\">\n",
       "      <th></th>\n",
       "      <th>date</th>\n",
       "      <th>end</th>\n",
       "      <th>failure</th>\n",
       "    </tr>\n",
       "  </thead>\n",
       "  <tbody>\n",
       "    <tr>\n",
       "      <th>0</th>\n",
       "      <td>2019-01-01</td>\n",
       "      <td>2019-01-31</td>\n",
       "      <td>0</td>\n",
       "    </tr>\n",
       "    <tr>\n",
       "      <th>1</th>\n",
       "      <td>2019-01-01</td>\n",
       "      <td>2019-01-31</td>\n",
       "      <td>0</td>\n",
       "    </tr>\n",
       "    <tr>\n",
       "      <th>2</th>\n",
       "      <td>2019-01-01</td>\n",
       "      <td>2019-01-31</td>\n",
       "      <td>0</td>\n",
       "    </tr>\n",
       "    <tr>\n",
       "      <th>3</th>\n",
       "      <td>2019-01-01</td>\n",
       "      <td>2019-01-31</td>\n",
       "      <td>0</td>\n",
       "    </tr>\n",
       "    <tr>\n",
       "      <th>4</th>\n",
       "      <td>2019-01-01</td>\n",
       "      <td>2019-01-31</td>\n",
       "      <td>0</td>\n",
       "    </tr>\n",
       "  </tbody>\n",
       "</table>\n",
       "</div>"
      ],
      "text/plain": [
       "        date        end  failure\n",
       "0 2019-01-01 2019-01-31        0\n",
       "1 2019-01-01 2019-01-31        0\n",
       "2 2019-01-01 2019-01-31        0\n",
       "3 2019-01-01 2019-01-31        0\n",
       "4 2019-01-01 2019-01-31        0"
      ]
     },
     "execution_count": 11,
     "metadata": {},
     "output_type": "execute_result"
    }
   ],
   "source": [
    "df.head()"
   ]
  },
  {
   "cell_type": "code",
   "execution_count": 12,
   "metadata": {},
   "outputs": [],
   "source": [
    "start = df['date']\n",
    "end = df['end']"
   ]
  },
  {
   "cell_type": "code",
   "execution_count": 13,
   "metadata": {},
   "outputs": [],
   "source": [
    "T, E = datetimes_to_durations(start, end, fill_date='2019-01-31')"
   ]
  },
  {
   "cell_type": "code",
   "execution_count": 14,
   "metadata": {},
   "outputs": [
    {
     "name": "stdout",
     "output_type": "stream",
     "text": [
      "T (durations):  [30. 30. 30. ...  0.  0.  0.]\n",
      "E (event_observed):  [ True  True  True ...  True  True  True]\n"
     ]
    }
   ],
   "source": [
    "print('T (durations): ', T)\n",
    "print('E (event_observed): ', E)"
   ]
  },
  {
   "cell_type": "code",
   "execution_count": 15,
   "metadata": {},
   "outputs": [],
   "source": [
    "E = df['failure']"
   ]
  },
  {
   "cell_type": "code",
   "execution_count": 15,
   "metadata": {},
   "outputs": [
    {
     "data": {
      "text/plain": [
       "<lifelines.KaplanMeierFitter: fitted with 3314967 observations, 3314820 censored>"
      ]
     },
     "execution_count": 15,
     "metadata": {},
     "output_type": "execute_result"
    }
   ],
   "source": [
    "## Entrainnement du modèle\n",
    "kmf.fit(T, df['failure'],label='Kaplan Meier Estimate')"
   ]
  },
  {
   "cell_type": "code",
   "execution_count": 16,
   "metadata": {},
   "outputs": [
    {
     "data": {
      "text/plain": [
       "<matplotlib.axes._subplots.AxesSubplot at 0x1dfe5fadd68>"
      ]
     },
     "execution_count": 16,
     "metadata": {},
     "output_type": "execute_result"
    },
    {
     "data": {
      "image/png": "[encoded data removed]",
      "text/plain": [
       "<Figure size 432x288 with 1 Axes>"
      ]
     },
     "metadata": {
      "needs_background": "light"
     },
     "output_type": "display_data"
    }
   ],
   "source": [
    "## Creation d'un estimateur\n",
    "kmf.plot(ci_show=False)"
   ]
  },
  {
   "cell_type": "code",
   "execution_count": 17,
   "metadata": {},
   "outputs": [
    {
     "data": {
      "text/plain": [
       "inf"
      ]
     },
     "execution_count": 17,
     "metadata": {},
     "output_type": "execute_result"
    }
   ],
   "source": [
    "kmf.median_"
   ]
  },
  {
   "cell_type": "markdown",
   "metadata": {},
   "source": [
    "### 5 - Estimateur Nelson-Aalen"
   ]
  },
  {
   "cell_type": "code",
   "execution_count": 16,
   "metadata": {},
   "outputs": [],
   "source": [
    "df_2 = data[['date','end','failure','model']]"
   ]
  },
  {
   "cell_type": "code",
   "execution_count": 18,
   "metadata": {},
   "outputs": [],
   "source": [
    "from lifelines import NelsonAalenFitter\n",
    "naf = NelsonAalenFitter()"
   ]
  },
  {
   "cell_type": "code",
   "execution_count": null,
   "metadata": {},
   "outputs": [],
   "source": [
    "naf.fit(T,event_observed=E)"
   ]
  },
  {
   "cell_type": "code",
   "execution_count": 20,
   "metadata": {},
   "outputs": [
    {
     "name": "stdout",
     "output_type": "stream",
     "text": [
      "           NA_estimate\n",
      "timeline              \n",
      "0.0       6.033243e-07\n",
      "1.0       9.149601e-07\n",
      "2.0       1.559556e-06\n",
      "3.0       3.562341e-06\n",
      "4.0       4.946933e-06\n"
     ]
    }
   ],
   "source": [
    "print(naf.cumulative_hazard_.head())"
   ]
  },
  {
   "cell_type": "code",
   "execution_count": 21,
   "metadata": {},
   "outputs": [
    {
     "data": {
      "text/plain": [
       "<matplotlib.axes._subplots.AxesSubplot at 0x25229f78550>"
      ]
     },
     "execution_count": 21,
     "metadata": {},
     "output_type": "execute_result"
    },
    {
     "data": {
      "image/png": "[encoded data removed]",
      "text/plain": [
       "<Figure size 432x288 with 1 Axes>"
      ]
     },
     "metadata": {
      "needs_background": "light"
     },
     "output_type": "display_data"
    }
   ],
   "source": [
    "naf.plot()"
   ]
  },
  {
   "cell_type": "code",
   "execution_count": null,
   "metadata": {},
   "outputs": [],
   "source": []
  },
  {
   "cell_type": "code",
   "execution_count": null,
   "metadata": {},
   "outputs": [],
   "source": []
  },
  {
   "cell_type": "code",
   "execution_count": null,
   "metadata": {},
   "outputs": [],
   "source": []
  }
 ],
 "metadata": {
  "kernelspec": {
   "display_name": "Python 3",
   "language": "python",
   "name": "python3"
  },
  "language_info": {
   "codemirror_mode": {
    "name": "ipython",
    "version": 3
   },
   "file_extension": ".py",
   "mimetype": "text/x-python",
   "name": "python",
   "nbconvert_exporter": "python",
   "pygments_lexer": "ipython3",
   "version": "3.7.0"
  }
 },
 "nbformat": 4,
 "nbformat_minor": 2
}
